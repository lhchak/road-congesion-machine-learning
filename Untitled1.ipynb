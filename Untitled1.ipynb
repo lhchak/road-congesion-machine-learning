{
 "cells": [
  {
   "cell_type": "code",
   "execution_count": null,
   "metadata": {},
   "outputs": [],
   "source": [
    "import networkx as nx\n",
    "import osmnx as ox\n",
    "import pandas as pd \n",
    "import numpy as np\n",
    "from pandas import DataFrame\n",
    "data = pd.read_csv('uber_madrid.csv', usecols=['osm_way_id', 'speed_mph_mean'])\n",
    "mean = data.groupby(['osm_way_id']).mean()\n",
    "\n",
    "G = ox.graph_from_place('croydon, UK', network_type='drive',simplify=False)\n",
    "nodes, edges = ox.graph_to_gdfs(G)"
   ]
  }
 ],
 "metadata": {
  "kernelspec": {
   "display_name": "Python [conda env:.conda-Ideaer1]",
   "language": "python",
   "name": "conda-env-.conda-Ideaer1-py"
  },
  "language_info": {
   "codemirror_mode": {
    "name": "ipython",
    "version": 3
   },
   "file_extension": ".py",
   "mimetype": "text/x-python",
   "name": "python",
   "nbconvert_exporter": "python",
   "pygments_lexer": "ipython3",
   "version": "3.7.8"
  }
 },
 "nbformat": 4,
 "nbformat_minor": 2
}
