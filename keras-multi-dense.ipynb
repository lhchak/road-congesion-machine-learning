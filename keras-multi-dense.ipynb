{
 "cells": [
  {
   "cell_type": "code",
   "execution_count": 1,
   "metadata": {},
   "outputs": [
    {
     "name": "stderr",
     "output_type": "stream",
     "text": [
      "/home/ai/anaconda3/envs/gpu/lib/python3.7/site-packages/tensorflow/python/framework/dtypes.py:516: FutureWarning: Passing (type, 1) or '1type' as a synonym of type is deprecated; in a future version of numpy, it will be understood as (type, (1,)) / '(1,)type'.\n",
      "  _np_qint8 = np.dtype([(\"qint8\", np.int8, 1)])\n",
      "/home/ai/anaconda3/envs/gpu/lib/python3.7/site-packages/tensorflow/python/framework/dtypes.py:517: FutureWarning: Passing (type, 1) or '1type' as a synonym of type is deprecated; in a future version of numpy, it will be understood as (type, (1,)) / '(1,)type'.\n",
      "  _np_quint8 = np.dtype([(\"quint8\", np.uint8, 1)])\n",
      "/home/ai/anaconda3/envs/gpu/lib/python3.7/site-packages/tensorflow/python/framework/dtypes.py:518: FutureWarning: Passing (type, 1) or '1type' as a synonym of type is deprecated; in a future version of numpy, it will be understood as (type, (1,)) / '(1,)type'.\n",
      "  _np_qint16 = np.dtype([(\"qint16\", np.int16, 1)])\n",
      "/home/ai/anaconda3/envs/gpu/lib/python3.7/site-packages/tensorflow/python/framework/dtypes.py:519: FutureWarning: Passing (type, 1) or '1type' as a synonym of type is deprecated; in a future version of numpy, it will be understood as (type, (1,)) / '(1,)type'.\n",
      "  _np_quint16 = np.dtype([(\"quint16\", np.uint16, 1)])\n",
      "/home/ai/anaconda3/envs/gpu/lib/python3.7/site-packages/tensorflow/python/framework/dtypes.py:520: FutureWarning: Passing (type, 1) or '1type' as a synonym of type is deprecated; in a future version of numpy, it will be understood as (type, (1,)) / '(1,)type'.\n",
      "  _np_qint32 = np.dtype([(\"qint32\", np.int32, 1)])\n",
      "/home/ai/anaconda3/envs/gpu/lib/python3.7/site-packages/tensorflow/python/framework/dtypes.py:525: FutureWarning: Passing (type, 1) or '1type' as a synonym of type is deprecated; in a future version of numpy, it will be understood as (type, (1,)) / '(1,)type'.\n",
      "  np_resource = np.dtype([(\"resource\", np.ubyte, 1)])\n"
     ]
    },
    {
     "name": "stdout",
     "output_type": "stream",
     "text": [
      "env: PYTHONHASHSEED=0\n"
     ]
    },
    {
     "name": "stderr",
     "output_type": "stream",
     "text": [
      "/home/ai/anaconda3/envs/gpu/lib/python3.7/site-packages/tensorboard/compat/tensorflow_stub/dtypes.py:541: FutureWarning: Passing (type, 1) or '1type' as a synonym of type is deprecated; in a future version of numpy, it will be understood as (type, (1,)) / '(1,)type'.\n",
      "  _np_qint8 = np.dtype([(\"qint8\", np.int8, 1)])\n",
      "/home/ai/anaconda3/envs/gpu/lib/python3.7/site-packages/tensorboard/compat/tensorflow_stub/dtypes.py:542: FutureWarning: Passing (type, 1) or '1type' as a synonym of type is deprecated; in a future version of numpy, it will be understood as (type, (1,)) / '(1,)type'.\n",
      "  _np_quint8 = np.dtype([(\"quint8\", np.uint8, 1)])\n",
      "/home/ai/anaconda3/envs/gpu/lib/python3.7/site-packages/tensorboard/compat/tensorflow_stub/dtypes.py:543: FutureWarning: Passing (type, 1) or '1type' as a synonym of type is deprecated; in a future version of numpy, it will be understood as (type, (1,)) / '(1,)type'.\n",
      "  _np_qint16 = np.dtype([(\"qint16\", np.int16, 1)])\n",
      "/home/ai/anaconda3/envs/gpu/lib/python3.7/site-packages/tensorboard/compat/tensorflow_stub/dtypes.py:544: FutureWarning: Passing (type, 1) or '1type' as a synonym of type is deprecated; in a future version of numpy, it will be understood as (type, (1,)) / '(1,)type'.\n",
      "  _np_quint16 = np.dtype([(\"quint16\", np.uint16, 1)])\n",
      "/home/ai/anaconda3/envs/gpu/lib/python3.7/site-packages/tensorboard/compat/tensorflow_stub/dtypes.py:545: FutureWarning: Passing (type, 1) or '1type' as a synonym of type is deprecated; in a future version of numpy, it will be understood as (type, (1,)) / '(1,)type'.\n",
      "  _np_qint32 = np.dtype([(\"qint32\", np.int32, 1)])\n",
      "/home/ai/anaconda3/envs/gpu/lib/python3.7/site-packages/tensorboard/compat/tensorflow_stub/dtypes.py:550: FutureWarning: Passing (type, 1) or '1type' as a synonym of type is deprecated; in a future version of numpy, it will be understood as (type, (1,)) / '(1,)type'.\n",
      "  np_resource = np.dtype([(\"resource\", np.ubyte, 1)])\n"
     ]
    }
   ],
   "source": [
    "from tensorflow.python.keras.layers import Input,Dense,Reshape,Lambda,RNN,Concatenate,StackedRNNCells\n",
    "from tensorflow.python.keras.models import Model,load_model\n",
    "from tensorflow.python.keras.utils import multi_gpu_model\n",
    "from tensorflow.python.keras.optimizers import Adam,SGD\n",
    "from tensorflow.python.keras.callbacks import LearningRateScheduler,Callback,ModelCheckpoint,TensorBoard\n",
    "\n",
    "import tensorflow as tf\n",
    "import datetime\n",
    "import os\n",
    "import numpy as np\n",
    "import pickle\n",
    "\n",
    "%env PYTHONHASHSEED=0\n",
    "from numpy.random import seed\n",
    "seed(1)\n",
    "from tensorflow import set_random_seed\n",
    "set_random_seed(2)\n",
    "os.environ[\"CUDA_VISIBLE_DEVICES\"]=\"0\""
   ]
  },
  {
   "cell_type": "code",
   "execution_count": 2,
   "metadata": {},
   "outputs": [],
   "source": [
    "from sklearn.model_selection import train_test_split\n",
    "#features\n",
    "n2v_start = np.load(\"start_emb_128.npy\")\n",
    "n2v_end = np.load(\"end_emb_128.npy\")\n",
    "lanes = np.load(\"lanes.npy\")\n",
    "oneway = np.load(\"oneway.npy\")\n",
    "roadtype = np.load(\"highway.npy\")\n",
    "maxspeed = np.load(\"maxspeed.npy\")\n",
    "nodetype = np.load(\"nodetype.npy\")\n",
    "lanes_df = np.load(\"lanes_df.npy\")\n",
    "#target\n",
    "meanspeed = np.load(\"meanspeed_only.npy\")\n",
    "\n",
    "#split\n",
    "n2v_start_train, n2v_start_test, n2v_end_train, n2v_end_test, lanes_train, lanes_test, oneway_train, oneway_test, roadtype_train, roadtype_test, maxspeed_train, maxspeed_test, nodetype_train, nodetype_test, lanes_df_train, lanes_df_test, meanspeed_train, meanspeed_test = train_test_split(n2v_start, n2v_end, lanes,oneway,roadtype,maxspeed,nodetype,lanes_df,meanspeed)\n",
    "del n2v_start\n",
    "del n2v_end\n",
    "del lanes\n",
    "del oneway\n",
    "del roadtype\n",
    "del maxspeed\n",
    "del nodetype\n",
    "del lanes_df\n",
    "del meanspeed"
   ]
  },
  {
   "cell_type": "code",
   "execution_count": 6,
   "metadata": {},
   "outputs": [],
   "source": [
    "embinplist = list()\n",
    "n2vlist = list()\n",
    "inplist = list()\n",
    "\n",
    "n2v_start_inp = Input((128,))\n",
    "n2v_start_reg = Dense(128,activation = \"relu\", use_bias = True)(n2v_start_inp)\n",
    "inplist.append(n2v_start_inp)\n",
    "n2vlist.append(n2v_start_reg)\n",
    "\n",
    "n2v_end_inp = Input((128,))\n",
    "n2v_end_reg = Dense(128,activation = \"relu\", use_bias = True)(n2v_end_inp)\n",
    "inplist.append(n2v_end_inp)\n",
    "n2vlist.append(n2v_end_reg)\n",
    "\n",
    "lanes_inp = Input((1,))\n",
    "lanes_reg= Dense(1,activation = \"relu\", use_bias = True)(lanes_inp)\n",
    "inplist.append(lanes_inp)\n",
    "embinplist.append(lanes_reg)\n",
    "\n",
    "oneway_inp = Input((2,))\n",
    "oneway_reg= Dense(2,activation = \"relu\", use_bias = True)(oneway_inp)\n",
    "inplist.append(oneway_inp)\n",
    "embinplist.append(oneway_reg)\n",
    "\n",
    "roadtype_inp = Input((13,))\n",
    "roadtype_reg= Dense(8,activation = \"relu\", use_bias = True)(roadtype_inp)\n",
    "inplist.append(roadtype_inp)\n",
    "embinplist.append(roadtype_reg)\n",
    "\n",
    "maxspeed_inp = Input((1,))\n",
    "maxspeed_reg= Dense(1,activation = \"relu\", use_bias = True)(maxspeed_inp)\n",
    "inplist.append(maxspeed_inp)\n",
    "embinplist.append(maxspeed_reg)\n",
    "\n",
    "nodetype_inp = Input((11,))\n",
    "nodetype_reg= Dense(8,activation = \"relu\", use_bias = True)(nodetype_inp)\n",
    "inplist.append(nodetype_inp)\n",
    "embinplist.append(nodetype_reg)\n",
    "\n",
    "lanes_df_inp = Input((1,))\n",
    "lanes_df_reg= Dense(1,activation = \"relu\", use_bias = True)(lanes_df_inp)\n",
    "inplist.append(lanes_df_inp)\n",
    "embinplist.append(lanes_df_reg)\n",
    "\n",
    "n2v = Concatenate()(n2vlist)\n",
    "n2v_reg = Dense(64,activation = \"relu\",use_bias = True)(n2v)\n",
    "embinplist.append(n2v_reg)\n",
    "\n",
    "combine = Concatenate()(embinplist)\n",
    "proj = Dense(32,activation = \"relu\",use_bias = True)(combine)\n",
    "proj = Dense(1,activation = \"linear\")(proj)\n",
    "\n",
    "emb = Model(inplist,proj)"
   ]
  },
  {
   "cell_type": "code",
   "execution_count": 22,
   "metadata": {
    "scrolled": false
   },
   "outputs": [
    {
     "name": "stdout",
     "output_type": "stream",
     "text": [
      "Model: \"model_4\"\n",
      "__________________________________________________________________________________________________\n",
      "Layer (type)                    Output Shape         Param #     Connected to                     \n",
      "==================================================================================================\n",
      "input_29 (InputLayer)           [(None, 128)]        0                                            \n",
      "__________________________________________________________________________________________________\n",
      "input_30 (InputLayer)           [(None, 128)]        0                                            \n",
      "__________________________________________________________________________________________________\n",
      "dense_40 (Dense)                (None, 64)           8256        input_29[0][0]                   \n",
      "__________________________________________________________________________________________________\n",
      "dense_41 (Dense)                (None, 64)           8256        input_30[0][0]                   \n",
      "__________________________________________________________________________________________________\n",
      "input_31 (InputLayer)           [(None, 1)]          0                                            \n",
      "__________________________________________________________________________________________________\n",
      "input_32 (InputLayer)           [(None, 2)]          0                                            \n",
      "__________________________________________________________________________________________________\n",
      "input_33 (InputLayer)           [(None, 13)]         0                                            \n",
      "__________________________________________________________________________________________________\n",
      "input_34 (InputLayer)           [(None, 1)]          0                                            \n",
      "__________________________________________________________________________________________________\n",
      "input_35 (InputLayer)           [(None, 11)]         0                                            \n",
      "__________________________________________________________________________________________________\n",
      "input_36 (InputLayer)           [(None, 1)]          0                                            \n",
      "__________________________________________________________________________________________________\n",
      "concatenate_8 (Concatenate)     (None, 128)          0           dense_40[0][0]                   \n",
      "                                                                 dense_41[0][0]                   \n",
      "__________________________________________________________________________________________________\n",
      "dense_42 (Dense)                (None, 1)            2           input_31[0][0]                   \n",
      "__________________________________________________________________________________________________\n",
      "dense_43 (Dense)                (None, 2)            6           input_32[0][0]                   \n",
      "__________________________________________________________________________________________________\n",
      "dense_44 (Dense)                (None, 8)            112         input_33[0][0]                   \n",
      "__________________________________________________________________________________________________\n",
      "dense_45 (Dense)                (None, 1)            2           input_34[0][0]                   \n",
      "__________________________________________________________________________________________________\n",
      "dense_46 (Dense)                (None, 8)            96          input_35[0][0]                   \n",
      "__________________________________________________________________________________________________\n",
      "dense_47 (Dense)                (None, 1)            2           input_36[0][0]                   \n",
      "__________________________________________________________________________________________________\n",
      "dense_48 (Dense)                (None, 32)           4128        concatenate_8[0][0]              \n",
      "__________________________________________________________________________________________________\n",
      "concatenate_9 (Concatenate)     (None, 53)           0           dense_42[0][0]                   \n",
      "                                                                 dense_43[0][0]                   \n",
      "                                                                 dense_44[0][0]                   \n",
      "                                                                 dense_45[0][0]                   \n",
      "                                                                 dense_46[0][0]                   \n",
      "                                                                 dense_47[0][0]                   \n",
      "                                                                 dense_48[0][0]                   \n",
      "__________________________________________________________________________________________________\n",
      "dense_49 (Dense)                (None, 32)           1728        concatenate_9[0][0]              \n",
      "__________________________________________________________________________________________________\n",
      "dense_50 (Dense)                (None, 1)            33          dense_49[0][0]                   \n",
      "==================================================================================================\n",
      "Total params: 22,621\n",
      "Trainable params: 22,621\n",
      "Non-trainable params: 0\n",
      "__________________________________________________________________________________________________\n"
     ]
    }
   ],
   "source": [
    "emb.summary()"
   ]
  },
  {
   "cell_type": "code",
   "execution_count": 7,
   "metadata": {},
   "outputs": [],
   "source": [
    "adam=Adam(lr=0.01,beta_1=0.9,beta_2=0.999,amsgrad=True)\n",
    "emb.compile(optimizer=adam, loss='mae',metrics=['mae'])"
   ]
  },
  {
   "cell_type": "code",
   "execution_count": 8,
   "metadata": {
    "scrolled": true
   },
   "outputs": [
    {
     "name": "stdout",
     "output_type": "stream",
     "text": [
      "Train on 86992 samples, validate on 28998 samples\n",
      "Epoch 1/100\n",
      "86992/86992 [==============================] - 4s 44us/sample - loss: 8.2605 - mean_absolute_error: 8.2605 - val_loss: 6.8024 - val_mean_absolute_error: 6.8024\n",
      "Epoch 2/100\n",
      "86992/86992 [==============================] - 3s 39us/sample - loss: 6.1792 - mean_absolute_error: 6.1792 - val_loss: 5.7845 - val_mean_absolute_error: 5.7845\n",
      "Epoch 3/100\n",
      "86992/86992 [==============================] - 3s 39us/sample - loss: 5.2870 - mean_absolute_error: 5.2870 - val_loss: 5.6476 - val_mean_absolute_error: 5.6476\n",
      "Epoch 4/100\n",
      "86992/86992 [==============================] - 3s 39us/sample - loss: 4.8256 - mean_absolute_error: 4.8256 - val_loss: 5.0766 - val_mean_absolute_error: 5.0766\n",
      "Epoch 5/100\n",
      "86992/86992 [==============================] - 3s 39us/sample - loss: 4.4493 - mean_absolute_error: 4.4493 - val_loss: 4.8187 - val_mean_absolute_error: 4.8187\n",
      "Epoch 6/100\n",
      "86992/86992 [==============================] - 3s 39us/sample - loss: 4.2275 - mean_absolute_error: 4.2275 - val_loss: 4.6857 - val_mean_absolute_error: 4.6857\n",
      "Epoch 7/100\n",
      "86992/86992 [==============================] - 3s 39us/sample - loss: 4.0133 - mean_absolute_error: 4.0133 - val_loss: 4.5674 - val_mean_absolute_error: 4.5674\n",
      "Epoch 8/100\n",
      "86992/86992 [==============================] - 3s 39us/sample - loss: 3.8733 - mean_absolute_error: 3.8733 - val_loss: 4.5309 - val_mean_absolute_error: 4.5309\n",
      "Epoch 9/100\n",
      "86992/86992 [==============================] - 3s 39us/sample - loss: 3.7530 - mean_absolute_error: 3.7530 - val_loss: 4.4875 - val_mean_absolute_error: 4.4875\n",
      "Epoch 10/100\n",
      "86992/86992 [==============================] - 3s 39us/sample - loss: 3.6726 - mean_absolute_error: 3.6726 - val_loss: 4.3906 - val_mean_absolute_error: 4.3906\n",
      "Epoch 11/100\n",
      "86992/86992 [==============================] - 3s 39us/sample - loss: 3.5434 - mean_absolute_error: 3.5434 - val_loss: 4.2960 - val_mean_absolute_error: 4.2960\n",
      "Epoch 12/100\n",
      "86992/86992 [==============================] - 3s 39us/sample - loss: 3.4671 - mean_absolute_error: 3.4671 - val_loss: 4.2619 - val_mean_absolute_error: 4.2619\n",
      "Epoch 13/100\n",
      "86992/86992 [==============================] - 3s 39us/sample - loss: 3.4067 - mean_absolute_error: 3.4067 - val_loss: 4.1935 - val_mean_absolute_error: 4.1935\n",
      "Epoch 14/100\n",
      "86992/86992 [==============================] - 3s 38us/sample - loss: 3.3316 - mean_absolute_error: 3.3316 - val_loss: 4.2973 - val_mean_absolute_error: 4.2973\n",
      "Epoch 15/100\n",
      "86992/86992 [==============================] - 3s 38us/sample - loss: 3.3002 - mean_absolute_error: 3.3002 - val_loss: 4.1569 - val_mean_absolute_error: 4.1569\n",
      "Epoch 16/100\n",
      "86992/86992 [==============================] - 3s 39us/sample - loss: 3.2170 - mean_absolute_error: 3.2170 - val_loss: 4.1375 - val_mean_absolute_error: 4.1375\n",
      "Epoch 17/100\n",
      "86992/86992 [==============================] - 3s 38us/sample - loss: 3.1836 - mean_absolute_error: 3.1836 - val_loss: 4.1007 - val_mean_absolute_error: 4.1007\n",
      "Epoch 18/100\n",
      "86992/86992 [==============================] - 3s 40us/sample - loss: 3.1256 - mean_absolute_error: 3.1256 - val_loss: 4.0704 - val_mean_absolute_error: 4.0704\n",
      "Epoch 19/100\n",
      "86992/86992 [==============================] - 3s 40us/sample - loss: 3.0930 - mean_absolute_error: 3.0930 - val_loss: 4.0679 - val_mean_absolute_error: 4.0679\n",
      "Epoch 20/100\n",
      "86992/86992 [==============================] - 3s 39us/sample - loss: 3.0717 - mean_absolute_error: 3.0717 - val_loss: 4.0402 - val_mean_absolute_error: 4.0402\n",
      "Epoch 21/100\n",
      "86992/86992 [==============================] - 3s 39us/sample - loss: 3.0141 - mean_absolute_error: 3.0141 - val_loss: 4.0593 - val_mean_absolute_error: 4.0593\n",
      "Epoch 22/100\n",
      "86992/86992 [==============================] - 3s 39us/sample - loss: 2.9701 - mean_absolute_error: 2.9701 - val_loss: 4.2857 - val_mean_absolute_error: 4.2857\n",
      "Epoch 23/100\n",
      "86992/86992 [==============================] - 3s 39us/sample - loss: 2.9441 - mean_absolute_error: 2.9441 - val_loss: 4.0130 - val_mean_absolute_error: 4.0130\n",
      "Epoch 24/100\n",
      "86992/86992 [==============================] - 3s 39us/sample - loss: 2.9197 - mean_absolute_error: 2.9197 - val_loss: 4.0068 - val_mean_absolute_error: 4.0068\n",
      "Epoch 25/100\n",
      "86992/86992 [==============================] - 3s 39us/sample - loss: 2.8969 - mean_absolute_error: 2.8969 - val_loss: 4.0818 - val_mean_absolute_error: 4.0818\n",
      "Epoch 26/100\n",
      "86992/86992 [==============================] - 3s 39us/sample - loss: 2.8311 - mean_absolute_error: 2.8311 - val_loss: 3.9813 - val_mean_absolute_error: 3.9813\n",
      "Epoch 27/100\n",
      "86992/86992 [==============================] - 3s 38us/sample - loss: 2.8488 - mean_absolute_error: 2.8488 - val_loss: 4.0076 - val_mean_absolute_error: 4.0076\n",
      "Epoch 28/100\n",
      "86992/86992 [==============================] - 3s 38us/sample - loss: 2.8085 - mean_absolute_error: 2.8085 - val_loss: 3.9406 - val_mean_absolute_error: 3.9406\n",
      "Epoch 29/100\n",
      "86992/86992 [==============================] - 3s 39us/sample - loss: 2.7799 - mean_absolute_error: 2.7799 - val_loss: 3.9622 - val_mean_absolute_error: 3.9622\n",
      "Epoch 30/100\n",
      "86992/86992 [==============================] - 3s 39us/sample - loss: 2.7473 - mean_absolute_error: 2.7473 - val_loss: 3.9352 - val_mean_absolute_error: 3.9352\n",
      "Epoch 31/100\n",
      "86992/86992 [==============================] - 3s 38us/sample - loss: 2.7403 - mean_absolute_error: 2.7403 - val_loss: 3.9047 - val_mean_absolute_error: 3.9047\n",
      "Epoch 32/100\n",
      "86992/86992 [==============================] - 3s 38us/sample - loss: 2.7013 - mean_absolute_error: 2.7013 - val_loss: 3.8796 - val_mean_absolute_error: 3.8796\n",
      "Epoch 33/100\n",
      "86992/86992 [==============================] - 3s 38us/sample - loss: 2.6846 - mean_absolute_error: 2.6846 - val_loss: 3.9041 - val_mean_absolute_error: 3.9041\n",
      "Epoch 34/100\n",
      "86992/86992 [==============================] - 3s 38us/sample - loss: 2.6825 - mean_absolute_error: 2.6825 - val_loss: 3.8943 - val_mean_absolute_error: 3.8943\n",
      "Epoch 35/100\n",
      "86992/86992 [==============================] - 3s 38us/sample - loss: 2.6532 - mean_absolute_error: 2.6532 - val_loss: 3.9967 - val_mean_absolute_error: 3.9967\n",
      "Epoch 36/100\n",
      "86992/86992 [==============================] - 3s 39us/sample - loss: 2.6251 - mean_absolute_error: 2.6251 - val_loss: 3.8796 - val_mean_absolute_error: 3.8796\n",
      "Epoch 37/100\n",
      "86992/86992 [==============================] - 3s 39us/sample - loss: 2.6181 - mean_absolute_error: 2.6181 - val_loss: 3.8955 - val_mean_absolute_error: 3.8955\n",
      "Epoch 38/100\n",
      "86992/86992 [==============================] - 3s 38us/sample - loss: 2.5972 - mean_absolute_error: 2.5972 - val_loss: 3.8717 - val_mean_absolute_error: 3.8717\n",
      "Epoch 39/100\n",
      "86992/86992 [==============================] - 3s 38us/sample - loss: 2.5688 - mean_absolute_error: 2.5688 - val_loss: 3.8384 - val_mean_absolute_error: 3.8384\n",
      "Epoch 40/100\n",
      "86992/86992 [==============================] - 3s 38us/sample - loss: 2.5635 - mean_absolute_error: 2.5635 - val_loss: 3.8544 - val_mean_absolute_error: 3.8544\n",
      "Epoch 41/100\n",
      "86992/86992 [==============================] - 3s 38us/sample - loss: 2.5528 - mean_absolute_error: 2.5528 - val_loss: 3.9147 - val_mean_absolute_error: 3.9147\n",
      "Epoch 42/100\n",
      "86992/86992 [==============================] - 3s 39us/sample - loss: 2.5448 - mean_absolute_error: 2.5448 - val_loss: 3.8538 - val_mean_absolute_error: 3.8538\n",
      "Epoch 43/100\n",
      "86992/86992 [==============================] - 3s 38us/sample - loss: 2.5130 - mean_absolute_error: 2.5130 - val_loss: 3.8343 - val_mean_absolute_error: 3.8343\n",
      "Epoch 44/100\n",
      "86992/86992 [==============================] - 3s 37us/sample - loss: 2.4902 - mean_absolute_error: 2.4902 - val_loss: 3.8600 - val_mean_absolute_error: 3.8600\n",
      "Epoch 45/100\n",
      "86992/86992 [==============================] - 3s 39us/sample - loss: 2.4828 - mean_absolute_error: 2.4828 - val_loss: 3.8315 - val_mean_absolute_error: 3.8315\n",
      "Epoch 46/100\n",
      "86992/86992 [==============================] - 3s 39us/sample - loss: 2.4865 - mean_absolute_error: 2.4865 - val_loss: 3.8702 - val_mean_absolute_error: 3.8702\n",
      "Epoch 47/100\n",
      "86992/86992 [==============================] - 3s 39us/sample - loss: 2.4868 - mean_absolute_error: 2.4868 - val_loss: 3.8439 - val_mean_absolute_error: 3.8439\n",
      "Epoch 48/100\n",
      "86992/86992 [==============================] - 3s 40us/sample - loss: 2.4546 - mean_absolute_error: 2.4546 - val_loss: 3.8351 - val_mean_absolute_error: 3.8351\n",
      "Epoch 49/100\n",
      "86992/86992 [==============================] - 3s 38us/sample - loss: 2.4151 - mean_absolute_error: 2.4151 - val_loss: 3.8071 - val_mean_absolute_error: 3.8071\n",
      "Epoch 50/100\n",
      "86992/86992 [==============================] - 3s 39us/sample - loss: 2.4169 - mean_absolute_error: 2.4169 - val_loss: 3.9154 - val_mean_absolute_error: 3.9154\n",
      "Epoch 51/100\n",
      "86992/86992 [==============================] - 3s 37us/sample - loss: 2.4248 - mean_absolute_error: 2.4248 - val_loss: 3.8014 - val_mean_absolute_error: 3.8014\n",
      "Epoch 52/100\n",
      "86992/86992 [==============================] - 3s 39us/sample - loss: 2.4222 - mean_absolute_error: 2.4222 - val_loss: 3.8286 - val_mean_absolute_error: 3.8286\n",
      "Epoch 53/100\n",
      "86992/86992 [==============================] - 3s 40us/sample - loss: 2.3997 - mean_absolute_error: 2.3997 - val_loss: 3.7891 - val_mean_absolute_error: 3.7891\n",
      "Epoch 54/100\n",
      "86992/86992 [==============================] - 3s 38us/sample - loss: 2.3798 - mean_absolute_error: 2.3798 - val_loss: 3.9797 - val_mean_absolute_error: 3.9797\n",
      "Epoch 55/100\n",
      "86992/86992 [==============================] - 3s 40us/sample - loss: 2.3718 - mean_absolute_error: 2.3718 - val_loss: 3.7905 - val_mean_absolute_error: 3.7905\n",
      "Epoch 56/100\n",
      "86992/86992 [==============================] - 3s 39us/sample - loss: 2.3560 - mean_absolute_error: 2.3560 - val_loss: 3.8653 - val_mean_absolute_error: 3.8653\n",
      "Epoch 57/100\n",
      "86992/86992 [==============================] - 3s 39us/sample - loss: 2.3425 - mean_absolute_error: 2.3425 - val_loss: 3.8292 - val_mean_absolute_error: 3.8292\n",
      "Epoch 58/100\n",
      "86992/86992 [==============================] - 3s 37us/sample - loss: 2.3576 - mean_absolute_error: 2.3576 - val_loss: 3.8683 - val_mean_absolute_error: 3.8683\n",
      "Epoch 59/100\n",
      "86992/86992 [==============================] - 3s 39us/sample - loss: 2.3417 - mean_absolute_error: 2.3417 - val_loss: 3.7803 - val_mean_absolute_error: 3.7803\n",
      "Epoch 60/100\n",
      "86992/86992 [==============================] - 3s 39us/sample - loss: 2.3115 - mean_absolute_error: 2.3115 - val_loss: 3.8589 - val_mean_absolute_error: 3.8589\n",
      "Epoch 61/100\n",
      "86992/86992 [==============================] - 3s 38us/sample - loss: 2.3121 - mean_absolute_error: 2.3121 - val_loss: 3.8530 - val_mean_absolute_error: 3.8530\n",
      "Epoch 62/100\n",
      "86992/86992 [==============================] - 3s 38us/sample - loss: 2.3117 - mean_absolute_error: 2.3117 - val_loss: 3.7980 - val_mean_absolute_error: 3.7980\n",
      "Epoch 63/100\n",
      "86992/86992 [==============================] - 3s 37us/sample - loss: 2.2921 - mean_absolute_error: 2.2921 - val_loss: 3.8421 - val_mean_absolute_error: 3.8421\n",
      "Epoch 64/100\n",
      "86992/86992 [==============================] - 3s 40us/sample - loss: 2.2794 - mean_absolute_error: 2.2794 - val_loss: 3.8466 - val_mean_absolute_error: 3.8466\n",
      "Epoch 65/100\n",
      "86992/86992 [==============================] - 3s 39us/sample - loss: 2.2784 - mean_absolute_error: 2.2784 - val_loss: 3.9479 - val_mean_absolute_error: 3.9479\n",
      "Epoch 66/100\n",
      "86992/86992 [==============================] - 3s 39us/sample - loss: 2.2690 - mean_absolute_error: 2.2690 - val_loss: 3.8020 - val_mean_absolute_error: 3.8020\n",
      "Epoch 67/100\n",
      "86992/86992 [==============================] - 3s 39us/sample - loss: 2.2512 - mean_absolute_error: 2.2512 - val_loss: 3.8361 - val_mean_absolute_error: 3.8361\n",
      "Epoch 68/100\n",
      "86992/86992 [==============================] - 3s 38us/sample - loss: 2.2634 - mean_absolute_error: 2.2634 - val_loss: 3.8104 - val_mean_absolute_error: 3.8104\n",
      "Epoch 69/100\n",
      "86992/86992 [==============================] - 3s 38us/sample - loss: 2.2421 - mean_absolute_error: 2.2421 - val_loss: 3.8128 - val_mean_absolute_error: 3.8128\n",
      "Epoch 70/100\n",
      "86992/86992 [==============================] - 3s 40us/sample - loss: 2.2232 - mean_absolute_error: 2.2232 - val_loss: 3.7907 - val_mean_absolute_error: 3.7907\n",
      "Epoch 71/100\n",
      "86992/86992 [==============================] - 3s 38us/sample - loss: 2.2258 - mean_absolute_error: 2.2258 - val_loss: 3.8092 - val_mean_absolute_error: 3.8092\n",
      "Epoch 72/100\n",
      "86992/86992 [==============================] - 3s 38us/sample - loss: 2.2098 - mean_absolute_error: 2.2098 - val_loss: 3.7926 - val_mean_absolute_error: 3.7926\n",
      "Epoch 73/100\n",
      "86992/86992 [==============================] - 3s 38us/sample - loss: 2.2157 - mean_absolute_error: 2.2157 - val_loss: 3.9466 - val_mean_absolute_error: 3.9466\n",
      "Epoch 74/100\n",
      "86992/86992 [==============================] - 3s 39us/sample - loss: 2.2190 - mean_absolute_error: 2.2190 - val_loss: 3.8228 - val_mean_absolute_error: 3.8228\n",
      "Epoch 75/100\n",
      "86992/86992 [==============================] - 3s 39us/sample - loss: 2.1911 - mean_absolute_error: 2.1911 - val_loss: 3.7966 - val_mean_absolute_error: 3.7966\n",
      "Epoch 76/100\n",
      "86992/86992 [==============================] - 3s 38us/sample - loss: 2.1836 - mean_absolute_error: 2.1836 - val_loss: 3.8403 - val_mean_absolute_error: 3.8403\n",
      "Epoch 77/100\n",
      "86992/86992 [==============================] - 3s 38us/sample - loss: 2.2072 - mean_absolute_error: 2.2072 - val_loss: 3.9052 - val_mean_absolute_error: 3.9052\n",
      "Epoch 78/100\n",
      "86992/86992 [==============================] - 3s 39us/sample - loss: 2.1849 - mean_absolute_error: 2.1849 - val_loss: 3.7569 - val_mean_absolute_error: 3.7569\n",
      "Epoch 79/100\n",
      "86992/86992 [==============================] - 3s 38us/sample - loss: 2.1644 - mean_absolute_error: 2.1644 - val_loss: 3.7772 - val_mean_absolute_error: 3.7772\n",
      "Epoch 80/100\n",
      "86992/86992 [==============================] - 3s 37us/sample - loss: 2.1692 - mean_absolute_error: 2.1692 - val_loss: 3.7831 - val_mean_absolute_error: 3.7831\n",
      "Epoch 81/100\n",
      "86992/86992 [==============================] - 3s 39us/sample - loss: 2.1505 - mean_absolute_error: 2.1505 - val_loss: 3.7844 - val_mean_absolute_error: 3.7844\n",
      "Epoch 82/100\n",
      "86992/86992 [==============================] - 3s 39us/sample - loss: 2.1826 - mean_absolute_error: 2.1826 - val_loss: 3.8083 - val_mean_absolute_error: 3.8083\n",
      "Epoch 83/100\n",
      "86992/86992 [==============================] - 3s 39us/sample - loss: 2.1432 - mean_absolute_error: 2.1432 - val_loss: 3.7939 - val_mean_absolute_error: 3.7939\n",
      "Epoch 84/100\n",
      "86992/86992 [==============================] - 3s 39us/sample - loss: 2.1363 - mean_absolute_error: 2.1363 - val_loss: 3.7850 - val_mean_absolute_error: 3.7850\n",
      "Epoch 85/100\n",
      "86992/86992 [==============================] - 3s 39us/sample - loss: 2.1598 - mean_absolute_error: 2.1598 - val_loss: 3.8465 - val_mean_absolute_error: 3.8465\n",
      "Epoch 86/100\n",
      "86992/86992 [==============================] - 3s 38us/sample - loss: 2.1359 - mean_absolute_error: 2.1359 - val_loss: 3.7861 - val_mean_absolute_error: 3.7861\n",
      "Epoch 87/100\n",
      "86992/86992 [==============================] - 3s 39us/sample - loss: 2.1164 - mean_absolute_error: 2.1164 - val_loss: 3.8062 - val_mean_absolute_error: 3.8062\n",
      "Epoch 88/100\n",
      "86992/86992 [==============================] - 3s 39us/sample - loss: 2.1332 - mean_absolute_error: 2.1332 - val_loss: 3.8040 - val_mean_absolute_error: 3.8040\n",
      "Epoch 89/100\n",
      "86992/86992 [==============================] - 3s 37us/sample - loss: 2.1004 - mean_absolute_error: 2.1004 - val_loss: 3.7719 - val_mean_absolute_error: 3.7719\n",
      "Epoch 90/100\n",
      "86992/86992 [==============================] - 3s 39us/sample - loss: 2.1049 - mean_absolute_error: 2.1049 - val_loss: 3.7741 - val_mean_absolute_error: 3.7741\n",
      "Epoch 91/100\n",
      "86992/86992 [==============================] - 3s 39us/sample - loss: 2.0867 - mean_absolute_error: 2.0867 - val_loss: 3.7947 - val_mean_absolute_error: 3.7947\n",
      "Epoch 92/100\n",
      "86992/86992 [==============================] - 3s 38us/sample - loss: 2.1026 - mean_absolute_error: 2.1026 - val_loss: 3.7970 - val_mean_absolute_error: 3.7970\n",
      "Epoch 93/100\n",
      "86992/86992 [==============================] - 3s 38us/sample - loss: 2.0949 - mean_absolute_error: 2.0949 - val_loss: 3.7956 - val_mean_absolute_error: 3.7956\n",
      "Epoch 94/100\n",
      "86992/86992 [==============================] - 3s 36us/sample - loss: 2.0798 - mean_absolute_error: 2.0798 - val_loss: 3.7876 - val_mean_absolute_error: 3.7876\n",
      "Epoch 95/100\n"
     ]
    },
    {
     "name": "stdout",
     "output_type": "stream",
     "text": [
      "86992/86992 [==============================] - 3s 37us/sample - loss: 2.0744 - mean_absolute_error: 2.0744 - val_loss: 3.7969 - val_mean_absolute_error: 3.7969\n",
      "Epoch 96/100\n",
      "86992/86992 [==============================] - 3s 39us/sample - loss: 2.0758 - mean_absolute_error: 2.0758 - val_loss: 3.7800 - val_mean_absolute_error: 3.7800\n",
      "Epoch 97/100\n",
      "86992/86992 [==============================] - 3s 38us/sample - loss: 2.0682 - mean_absolute_error: 2.0682 - val_loss: 3.7834 - val_mean_absolute_error: 3.7834\n",
      "Epoch 98/100\n",
      "86992/86992 [==============================] - 3s 39us/sample - loss: 2.0607 - mean_absolute_error: 2.0607 - val_loss: 3.8183 - val_mean_absolute_error: 3.8183\n",
      "Epoch 99/100\n",
      "86992/86992 [==============================] - 3s 39us/sample - loss: 2.0656 - mean_absolute_error: 2.0656 - val_loss: 3.8698 - val_mean_absolute_error: 3.8698\n",
      "Epoch 100/100\n",
      "86992/86992 [==============================] - 3s 39us/sample - loss: 2.0641 - mean_absolute_error: 2.0641 - val_loss: 3.7929 - val_mean_absolute_error: 3.7929\n"
     ]
    }
   ],
   "source": [
    "history =emb.fit([n2v_start_train,n2v_end_train,lanes_train,oneway_train,roadtype_train,maxspeed_train,nodetype_train,lanes_df_train],\n",
    "        meanspeed_train,\n",
    "        epochs=100,batch_size=256,\n",
    "        validation_data=([n2v_start_test,n2v_end_test,lanes_test,oneway_test,roadtype_test,maxspeed_test,nodetype_test,lanes_df_test],\n",
    "        meanspeed_test)\n",
    "       )"
   ]
  },
  {
   "cell_type": "code",
   "execution_count": 49,
   "metadata": {},
   "outputs": [],
   "source": [
    "emb.save('/home/fyp2/Ideaer/Madrid/model/all')"
   ]
  },
  {
   "cell_type": "code",
   "execution_count": 9,
   "metadata": {},
   "outputs": [
    {
     "name": "stdout",
     "output_type": "stream",
     "text": [
      "min loss :2.060740846997349\n",
      "min val mae :3.75692\n"
     ]
    }
   ],
   "source": [
    "loss_hist = history.history['loss']\n",
    "mae_history = history.history[\"val_mean_absolute_error\"]\n",
    "print(\"min loss :\"+str(np.min(loss_hist)))\n",
    "print(\"min val mae :\"+str(np.min(mae_history)))"
   ]
  },
  {
   "cell_type": "markdown",
   "metadata": {},
   "source": [
    "## node2vec 256 --> 32"
   ]
  },
  {
   "cell_type": "code",
   "execution_count": 8,
   "metadata": {},
   "outputs": [
    {
     "name": "stdout",
     "output_type": "stream",
     "text": [
      "min loss :2.109027302043719\n",
      "min val mae :3.7186508\n"
     ]
    }
   ],
   "source": [
    "loss_hist = history.history['loss']\n",
    "mae_history = history.history[\"val_mean_absolute_error\"]\n",
    "print(\"min loss :\"+str(np.min(loss_hist)))\n",
    "print(\"min val mae :\"+str(np.min(mae_history)))"
   ]
  },
  {
   "cell_type": "markdown",
   "metadata": {},
   "source": [
    "## node2vec 256 -->128 --> 64"
   ]
  },
  {
   "cell_type": "code",
   "execution_count": 13,
   "metadata": {},
   "outputs": [
    {
     "name": "stdout",
     "output_type": "stream",
     "text": [
      "min loss :2.819155234502961\n",
      "min val mae :4.35377\n"
     ]
    }
   ],
   "source": [
    "loss_hist = history.history['loss']\n",
    "mae_history = history.history[\"val_mean_absolute_error\"]\n",
    "print(\"min loss :\"+str(np.min(loss_hist)))\n",
    "print(\"min val mae :\"+str(np.min(mae_history)))"
   ]
  },
  {
   "cell_type": "markdown",
   "metadata": {},
   "source": [
    "## node2vec 256 -->128 --> 32"
   ]
  },
  {
   "cell_type": "code",
   "execution_count": 17,
   "metadata": {},
   "outputs": [
    {
     "name": "stdout",
     "output_type": "stream",
     "text": [
      "min loss :3.0678007390452193\n",
      "min val mae :4.451634\n"
     ]
    }
   ],
   "source": [
    "loss_hist = history.history['loss']\n",
    "mae_history = history.history[\"val_mean_absolute_error\"]\n",
    "print(\"min loss :\"+str(np.min(loss_hist)))\n",
    "print(\"min val mae :\"+str(np.min(mae_history)))"
   ]
  },
  {
   "cell_type": "code",
   "execution_count": null,
   "metadata": {},
   "outputs": [],
   "source": []
  }
 ],
 "metadata": {
  "kernelspec": {
   "display_name": "Python [conda env:gpu]",
   "language": "python",
   "name": "conda-env-gpu-py"
  },
  "language_info": {
   "codemirror_mode": {
    "name": "ipython",
    "version": 3
   },
   "file_extension": ".py",
   "mimetype": "text/x-python",
   "name": "python",
   "nbconvert_exporter": "python",
   "pygments_lexer": "ipython3",
   "version": "3.7.5"
  }
 },
 "nbformat": 4,
 "nbformat_minor": 2
}
