{
 "cells": [
  {
   "cell_type": "code",
   "execution_count": 1,
   "metadata": {},
   "outputs": [],
   "source": [
    "from sklearn.model_selection import train_test_split\n",
    "import numpy as np"
   ]
  },
  {
   "cell_type": "code",
   "execution_count": 38,
   "metadata": {},
   "outputs": [],
   "source": [
    "#features\n",
    "n2v_start = np.load(\"start_emb_128.npy\")\n",
    "n2v_end = np.load(\"end_emb_128.npy\")\n",
    "lanes = np.load(\"lanes.npy\")\n",
    "oneway = np.load(\"oneway.npy\")\n",
    "roadtype = np.load(\"highway.npy\")\n",
    "maxspeed = np.load(\"maxspeed.npy\")\n",
    "nodetype = np.load(\"nodetype.npy\")\n",
    "#target\n",
    "meanspeed = np.load(\"meanspeed_only.npy\")"
   ]
  },
  {
   "cell_type": "code",
   "execution_count": 35,
   "metadata": {},
   "outputs": [
    {
     "data": {
      "text/plain": [
       "array([[0, 0, 0, ..., 0, 0, 0],\n",
       "       [0, 0, 0, ..., 0, 0, 0],\n",
       "       [0, 0, 0, ..., 0, 0, 0],\n",
       "       ...,\n",
       "       [0, 0, 0, ..., 0, 0, 0],\n",
       "       [0, 0, 0, ..., 0, 0, 0],\n",
       "       [0, 0, 0, ..., 0, 0, 0]], dtype=uint8)"
      ]
     },
     "execution_count": 35,
     "metadata": {},
     "output_type": "execute_result"
    }
   ],
   "source": [
    "nodetype"
   ]
  },
  {
   "cell_type": "code",
   "execution_count": 39,
   "metadata": {},
   "outputs": [],
   "source": [
    "n2v_start_train, n2v_start_test, n2v_end_train, n2v_end_test, lanes_train, lanes_test, oneway_train, oneway_test, roadtype_train, roadtype_test, maxspeed_train, maxspeed_test, nodetype_train, nodetype_test, meanspeed_train, meanspeed_test = train_test_split(n2v_start, n2v_end, lanes,oneway,roadtype,maxspeed,nodetype,meanspeed)"
   ]
  },
  {
   "cell_type": "code",
   "execution_count": 40,
   "metadata": {},
   "outputs": [],
   "source": [
    "np.save('/home/fyp2/Ideaer/Madrid/split/n2v_start_train.npy',n2v_start_train)\n",
    "np.save('/home/fyp2/Ideaer/Madrid/split/n2v_start_test.npy',n2v_start_test)\n",
    "\n",
    "np.save('/home/fyp2/Ideaer/Madrid/split/n2v_end_train.npy',n2v_end_train)\n",
    "np.save('/home/fyp2/Ideaer/Madrid/split/n2v_end_test.npy',n2v_end_test)\n",
    "\n",
    "np.save('/home/fyp2/Ideaer/Madrid/split/lanes_train.npy',lanes_train)\n",
    "np.save('/home/fyp2/Ideaer/Madrid/split/lanes_test.npy',lanes_test)\n",
    "\n",
    "np.save('/home/fyp2/Ideaer/Madrid/split/oneway_train.npy',oneway_train)\n",
    "np.save('/home/fyp2/Ideaer/Madrid/split/oneway_test.npy',oneway_test)\n",
    "\n",
    "np.save('/home/fyp2/Ideaer/Madrid/split/roadtype_train.npy',roadtype_train)\n",
    "np.save('/home/fyp2/Ideaer/Madrid/split/roadtype_test.npy',roadtype_test)\n",
    "\n",
    "np.save('/home/fyp2/Ideaer/Madrid/split/maxspeed_train.npy',maxspeed_train)\n",
    "np.save('/home/fyp2/Ideaer/Madrid/split/maxspeed_test.npy',maxspeed_test)\n",
    "\n",
    "np.save('/home/fyp2/Ideaer/Madrid/split/nodetype_train.npy',nodetype_train)\n",
    "np.save('/home/fyp2/Ideaer/Madrid/split/nodetype_test.npy',nodetype_test)\n",
    "\n",
    "np.save('/home/fyp2/Ideaer/Madrid/split/meanspeed_train.npy',meanspeed_train)\n",
    "np.save('/home/fyp2/Ideaer/Madrid/split/meanspeed_test.npy',meanspeed_test)"
   ]
  },
  {
   "cell_type": "code",
   "execution_count": 24,
   "metadata": {},
   "outputs": [
    {
     "name": "stdout",
     "output_type": "stream",
     "text": [
      "/home/fyp2/Ideaer/Madrid\n"
     ]
    }
   ],
   "source": [
    "import os\n",
    "\n",
    "print (os.getcwd()) #打印出当前工作路径 "
   ]
  },
  {
   "cell_type": "code",
   "execution_count": null,
   "metadata": {},
   "outputs": [],
   "source": []
  }
 ],
 "metadata": {
  "kernelspec": {
   "display_name": "Python [conda env:.conda-Ideaer1]",
   "language": "python",
   "name": "conda-env-.conda-Ideaer1-py"
  },
  "language_info": {
   "codemirror_mode": {
    "name": "ipython",
    "version": 3
   },
   "file_extension": ".py",
   "mimetype": "text/x-python",
   "name": "python",
   "nbconvert_exporter": "python",
   "pygments_lexer": "ipython3",
   "version": "3.7.8"
  }
 },
 "nbformat": 4,
 "nbformat_minor": 2
}
