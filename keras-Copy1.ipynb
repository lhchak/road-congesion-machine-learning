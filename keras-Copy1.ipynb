{
 "cells": [
  {
   "cell_type": "code",
   "execution_count": 1,
   "metadata": {},
   "outputs": [
    {
     "name": "stderr",
     "output_type": "stream",
     "text": [
      "/home/ai/anaconda3/envs/gpu/lib/python3.7/site-packages/tensorflow/python/framework/dtypes.py:516: FutureWarning: Passing (type, 1) or '1type' as a synonym of type is deprecated; in a future version of numpy, it will be understood as (type, (1,)) / '(1,)type'.\n",
      "  _np_qint8 = np.dtype([(\"qint8\", np.int8, 1)])\n",
      "/home/ai/anaconda3/envs/gpu/lib/python3.7/site-packages/tensorflow/python/framework/dtypes.py:517: FutureWarning: Passing (type, 1) or '1type' as a synonym of type is deprecated; in a future version of numpy, it will be understood as (type, (1,)) / '(1,)type'.\n",
      "  _np_quint8 = np.dtype([(\"quint8\", np.uint8, 1)])\n",
      "/home/ai/anaconda3/envs/gpu/lib/python3.7/site-packages/tensorflow/python/framework/dtypes.py:518: FutureWarning: Passing (type, 1) or '1type' as a synonym of type is deprecated; in a future version of numpy, it will be understood as (type, (1,)) / '(1,)type'.\n",
      "  _np_qint16 = np.dtype([(\"qint16\", np.int16, 1)])\n",
      "/home/ai/anaconda3/envs/gpu/lib/python3.7/site-packages/tensorflow/python/framework/dtypes.py:519: FutureWarning: Passing (type, 1) or '1type' as a synonym of type is deprecated; in a future version of numpy, it will be understood as (type, (1,)) / '(1,)type'.\n",
      "  _np_quint16 = np.dtype([(\"quint16\", np.uint16, 1)])\n",
      "/home/ai/anaconda3/envs/gpu/lib/python3.7/site-packages/tensorflow/python/framework/dtypes.py:520: FutureWarning: Passing (type, 1) or '1type' as a synonym of type is deprecated; in a future version of numpy, it will be understood as (type, (1,)) / '(1,)type'.\n",
      "  _np_qint32 = np.dtype([(\"qint32\", np.int32, 1)])\n",
      "/home/ai/anaconda3/envs/gpu/lib/python3.7/site-packages/tensorflow/python/framework/dtypes.py:525: FutureWarning: Passing (type, 1) or '1type' as a synonym of type is deprecated; in a future version of numpy, it will be understood as (type, (1,)) / '(1,)type'.\n",
      "  np_resource = np.dtype([(\"resource\", np.ubyte, 1)])\n"
     ]
    },
    {
     "name": "stdout",
     "output_type": "stream",
     "text": [
      "env: PYTHONHASHSEED=0\n"
     ]
    },
    {
     "name": "stderr",
     "output_type": "stream",
     "text": [
      "/home/ai/anaconda3/envs/gpu/lib/python3.7/site-packages/tensorboard/compat/tensorflow_stub/dtypes.py:541: FutureWarning: Passing (type, 1) or '1type' as a synonym of type is deprecated; in a future version of numpy, it will be understood as (type, (1,)) / '(1,)type'.\n",
      "  _np_qint8 = np.dtype([(\"qint8\", np.int8, 1)])\n",
      "/home/ai/anaconda3/envs/gpu/lib/python3.7/site-packages/tensorboard/compat/tensorflow_stub/dtypes.py:542: FutureWarning: Passing (type, 1) or '1type' as a synonym of type is deprecated; in a future version of numpy, it will be understood as (type, (1,)) / '(1,)type'.\n",
      "  _np_quint8 = np.dtype([(\"quint8\", np.uint8, 1)])\n",
      "/home/ai/anaconda3/envs/gpu/lib/python3.7/site-packages/tensorboard/compat/tensorflow_stub/dtypes.py:543: FutureWarning: Passing (type, 1) or '1type' as a synonym of type is deprecated; in a future version of numpy, it will be understood as (type, (1,)) / '(1,)type'.\n",
      "  _np_qint16 = np.dtype([(\"qint16\", np.int16, 1)])\n",
      "/home/ai/anaconda3/envs/gpu/lib/python3.7/site-packages/tensorboard/compat/tensorflow_stub/dtypes.py:544: FutureWarning: Passing (type, 1) or '1type' as a synonym of type is deprecated; in a future version of numpy, it will be understood as (type, (1,)) / '(1,)type'.\n",
      "  _np_quint16 = np.dtype([(\"quint16\", np.uint16, 1)])\n",
      "/home/ai/anaconda3/envs/gpu/lib/python3.7/site-packages/tensorboard/compat/tensorflow_stub/dtypes.py:545: FutureWarning: Passing (type, 1) or '1type' as a synonym of type is deprecated; in a future version of numpy, it will be understood as (type, (1,)) / '(1,)type'.\n",
      "  _np_qint32 = np.dtype([(\"qint32\", np.int32, 1)])\n",
      "/home/ai/anaconda3/envs/gpu/lib/python3.7/site-packages/tensorboard/compat/tensorflow_stub/dtypes.py:550: FutureWarning: Passing (type, 1) or '1type' as a synonym of type is deprecated; in a future version of numpy, it will be understood as (type, (1,)) / '(1,)type'.\n",
      "  np_resource = np.dtype([(\"resource\", np.ubyte, 1)])\n"
     ]
    }
   ],
   "source": [
    "from tensorflow.python.keras.layers import Input,Dense,Reshape,Lambda,RNN,Concatenate,StackedRNNCells\n",
    "from tensorflow.python.keras.models import Model,load_model\n",
    "from tensorflow.python.keras.utils import multi_gpu_model\n",
    "from tensorflow.python.keras.optimizers import Adam,SGD\n",
    "from tensorflow.python.keras.callbacks import LearningRateScheduler,Callback,ModelCheckpoint,TensorBoard\n",
    "\n",
    "import tensorflow as tf\n",
    "import datetime\n",
    "import os\n",
    "import numpy as np\n",
    "import pickle\n",
    "\n",
    "%env PYTHONHASHSEED=0\n",
    "from numpy.random import seed\n",
    "seed(1)\n",
    "from tensorflow import set_random_seed\n",
    "set_random_seed(2)\n",
    "os.environ[\"CUDA_VISIBLE_DEVICES\"]=\"0\""
   ]
  },
  {
   "cell_type": "code",
   "execution_count": 2,
   "metadata": {},
   "outputs": [],
   "source": [
    "#features\n",
    "n2v_start = np.load(\"start_emb_128.npy\")\n",
    "n2v_end = np.load(\"end_emb_128.npy\")\n",
    "lanes = np.load(\"lanes.npy\")\n",
    "oneway = np.load(\"oneway.npy\")\n",
    "roadtype = np.load(\"highway.npy\")\n",
    "maxspeed = np.load(\"maxspeed.npy\")\n",
    "nodetype = np.load(\"nodetype.npy\")\n",
    "#target\n",
    "meanspeed = np.load(\"meanspeed_only.npy\")"
   ]
  },
  {
   "cell_type": "code",
   "execution_count": 5,
   "metadata": {},
   "outputs": [],
   "source": [
    "from sklearn.manifold import TSNE\n",
    "tsne = TSNE(n_components=64, random_state=0,perplexity=50)\n"
   ]
  },
  {
   "cell_type": "code",
   "execution_count": 6,
   "metadata": {},
   "outputs": [
    {
     "name": "stdout",
     "output_type": "stream",
     "text": [
      "[[ 0.72621435  0.0965858   0.0142382  ... -0.43758184 -2.090535\n",
      "   0.5017583 ]\n",
      " [ 0.7366812   0.13260578  0.07979007 ... -0.47865644 -2.1874576\n",
      "   0.5778666 ]\n",
      " [ 0.7538181   0.2126736   0.01767093 ... -0.37269926 -1.8463417\n",
      "   0.55626845]\n",
      " ...\n",
      " [-1.1139764  -0.7462887  -0.39946842 ... -0.27099925 -0.3327773\n",
      "  -2.7682035 ]\n",
      " [ 0.7054061  -1.4814119  -1.5285032  ...  1.1054153  -0.46722254\n",
      "  -1.2053367 ]\n",
      " [ 0.25418708 -0.36718926 -1.5011023  ...  1.0120728  -0.7492262\n",
      "  -1.0215808 ]]\n",
      "[[ 0.37035462  0.01037511  0.01786758 ... -0.2290353  -1.1111445\n",
      "   0.2672848 ]\n",
      " [ 0.72621435  0.0965858   0.0142382  ... -0.43758184 -2.090535\n",
      "   0.5017583 ]\n",
      " [ 0.7366812   0.13260578  0.07979007 ... -0.47865644 -2.1874576\n",
      "   0.5778666 ]\n",
      " ...\n",
      " [-1.9747239  -0.91884375 -0.775578   ... -0.5645902  -0.42994672\n",
      "  -4.050164  ]\n",
      " [ 0.25418708 -0.36718926 -1.5011023  ...  1.0120728  -0.7492262\n",
      "  -1.0215808 ]\n",
      " [ 0.7054061  -1.4814119  -1.5285032  ...  1.1054153  -0.46722254\n",
      "  -1.2053367 ]]\n"
     ]
    }
   ],
   "source": [
    "print(n2v_start)\n",
    "print(n2v_end)"
   ]
  },
  {
   "cell_type": "code",
   "execution_count": 7,
   "metadata": {},
   "outputs": [
    {
     "name": "stdout",
     "output_type": "stream",
     "text": [
      "[[ 0.72621435  0.0965858   0.0142382  ... -0.2290353  -1.1111445\n",
      "   0.2672848 ]\n",
      " [ 0.7366812   0.13260578  0.07979007 ... -0.43758184 -2.090535\n",
      "   0.5017583 ]\n",
      " [ 0.7538181   0.2126736   0.01767093 ... -0.47865644 -2.1874576\n",
      "   0.5778666 ]\n",
      " ...\n",
      " [-1.1139764  -0.7462887  -0.39946842 ... -0.5645902  -0.42994672\n",
      "  -4.050164  ]\n",
      " [ 0.7054061  -1.4814119  -1.5285032  ...  1.0120728  -0.7492262\n",
      "  -1.0215808 ]\n",
      " [ 0.25418708 -0.36718926 -1.5011023  ...  1.1054153  -0.46722254\n",
      "  -1.2053367 ]]\n"
     ]
    }
   ],
   "source": [
    "n2v = np.concatenate((n2v_start, n2v_end), axis=1)\n",
    "print(n2v)"
   ]
  },
  {
   "cell_type": "code",
   "execution_count": 9,
   "metadata": {},
   "outputs": [
    {
     "data": {
      "text/plain": [
       "PCA(n_components=64)"
      ]
     },
     "execution_count": 9,
     "metadata": {},
     "output_type": "execute_result"
    }
   ],
   "source": [
    "from sklearn.decomposition import PCA\n",
    "pca = PCA(n_components=64)"
   ]
  },
  {
   "cell_type": "code",
   "execution_count": 11,
   "metadata": {},
   "outputs": [
    {
     "data": {
      "text/plain": [
       "array([[-1.3989583 , -2.5385208 ,  1.77042   , ..., -1.0551376 ,\n",
       "        -0.54207414,  0.6368675 ],\n",
       "       [-1.8891281 , -3.4466548 ,  2.3741302 , ..., -1.364933  ,\n",
       "        -0.74396974,  0.9243126 ],\n",
       "       [-1.8135501 , -3.2302313 ,  2.2440476 , ..., -1.2673515 ,\n",
       "        -0.83842057,  1.0760049 ],\n",
       "       ...,\n",
       "       [-0.7294558 ,  0.29150707, -1.751305  , ..., -1.6388096 ,\n",
       "         1.0252062 , -0.5843897 ],\n",
       "       [ 0.8310536 , -1.7252822 , -0.93003094, ...,  0.5347019 ,\n",
       "         0.52981085, -1.0050435 ],\n",
       "       [ 0.83132625, -1.7260897 , -0.9254368 , ...,  0.5331711 ,\n",
       "         0.5326352 , -1.005796  ]], dtype=float32)"
      ]
     },
     "execution_count": 11,
     "metadata": {},
     "output_type": "execute_result"
    }
   ],
   "source": [
    "pca.fit(n2v)\n",
    "n2v_64 = pca.transform(n2v)\n",
    "n2v_64"
   ]
  },
  {
   "cell_type": "code",
   "execution_count": 38,
   "metadata": {},
   "outputs": [
    {
     "data": {
      "text/plain": [
       "86992"
      ]
     },
     "execution_count": 38,
     "metadata": {},
     "output_type": "execute_result"
    }
   ],
   "source": [
    "np.size(Y_train,0)"
   ]
  },
  {
   "cell_type": "code",
   "execution_count": 14,
   "metadata": {},
   "outputs": [],
   "source": [
    "infras = np.concatenate((lanes,oneway,roadtype,maxspeed,nodetype),axis = 1)"
   ]
  },
  {
   "cell_type": "code",
   "execution_count": 22,
   "metadata": {},
   "outputs": [
    {
     "data": {
      "text/plain": [
       "array([[3, 0, 1, ..., 0, 0, 0],\n",
       "       [3, 0, 1, ..., 0, 0, 0],\n",
       "       [3, 0, 1, ..., 0, 0, 0],\n",
       "       ...,\n",
       "       [1, 1, 0, ..., 0, 0, 0],\n",
       "       [4, 1, 0, ..., 0, 0, 0],\n",
       "       [4, 1, 0, ..., 0, 0, 0]])"
      ]
     },
     "execution_count": 22,
     "metadata": {},
     "output_type": "execute_result"
    }
   ],
   "source": [
    "np.set_printoptions(threshold=1000)\n",
    "np.set_printoptions(edgeitems=3)\n",
    "infras"
   ]
  },
  {
   "cell_type": "code",
   "execution_count": 28,
   "metadata": {},
   "outputs": [
    {
     "data": {
      "text/plain": [
       "array([[-1.39895833, -2.53852081,  1.77041996, ...,  0.        ,\n",
       "         0.        ,  0.        ],\n",
       "       [-1.88912809, -3.4466548 ,  2.37413025, ...,  0.        ,\n",
       "         0.        ,  0.        ],\n",
       "       [-1.81355011, -3.23023129,  2.24404764, ...,  0.        ,\n",
       "         0.        ,  0.        ],\n",
       "       ...,\n",
       "       [-0.72945583,  0.29150707, -1.75130498, ...,  0.        ,\n",
       "         0.        ,  0.        ],\n",
       "       [ 0.83105361, -1.72528219, -0.93003094, ...,  0.        ,\n",
       "         0.        ,  0.        ],\n",
       "       [ 0.83132625, -1.72608972, -0.92543679, ...,  0.        ,\n",
       "         0.        ,  0.        ]])"
      ]
     },
     "execution_count": 28,
     "metadata": {},
     "output_type": "execute_result"
    }
   ],
   "source": [
    "feature = np.concatenate((n2v_64, infras), axis=1)\n",
    "feature"
   ]
  },
  {
   "cell_type": "code",
   "execution_count": 31,
   "metadata": {},
   "outputs": [],
   "source": [
    "pca2 = PCA(n_components=32)\n",
    "pca2.fit(feature)\n",
    "feature_32 = pca2.transform(feature)"
   ]
  },
  {
   "cell_type": "code",
   "execution_count": 32,
   "metadata": {},
   "outputs": [
    {
     "data": {
      "text/plain": [
       "array([[ 4.94915564e+01, -1.36051361e+00, -2.49776842e+00, ...,\n",
       "         8.52741896e-01,  1.13475836e-02, -1.26863707e-01],\n",
       "       [ 4.95063552e+01, -1.84366039e+00, -3.42026072e+00, ...,\n",
       "         1.08871305e+00,  4.06659754e-02, -1.51682915e-01],\n",
       "       [ 4.95062709e+01, -1.76955659e+00, -3.19388251e+00, ...,\n",
       "         1.10960686e+00,  9.41782769e-02, -2.71976084e-01],\n",
       "       ...,\n",
       "       [-5.36852183e-01, -7.53016145e-01,  2.38892099e-01, ...,\n",
       "        -1.13386927e+00, -1.15249425e+00, -2.13044007e-01],\n",
       "       [-2.04758298e+01,  8.28318071e-01, -1.66039748e+00, ...,\n",
       "        -2.53217681e+00, -1.16215905e+00,  1.53252629e-01],\n",
       "       [-2.04758422e+01,  8.27649429e-01, -1.65587675e+00, ...,\n",
       "        -2.53429460e+00, -1.15116110e+00,  1.43757850e-01]])"
      ]
     },
     "execution_count": 32,
     "metadata": {},
     "output_type": "execute_result"
    }
   ],
   "source": [
    "feature_32"
   ]
  },
  {
   "cell_type": "code",
   "execution_count": 2,
   "metadata": {},
   "outputs": [],
   "source": [
    "from sklearn.model_selection import train_test_split\n",
    "\n",
    "#split\n",
    "n2v_start_train, n2v_start_test, n2v_end_train, n2v_end_test, lanes_train, lanes_test, oneway_train, oneway_test, roadtype_train, roadtype_test, maxspeed_train, maxspeed_test, nodetype_train, nodetype_test, meanspeed_train, meanspeed_test = train_test_split(n2v_start, n2v_end, lanes,oneway,roadtype,maxspeed,nodetype,meanspeed)\n",
    "del n2v_start\n",
    "del n2v_end\n",
    "del lanes\n",
    "del oneway\n",
    "del roadtype\n",
    "del maxspeed\n",
    "del nodetype\n",
    "del meanspeed"
   ]
  },
  {
   "cell_type": "code",
   "execution_count": 3,
   "metadata": {},
   "outputs": [
    {
     "name": "stdout",
     "output_type": "stream",
     "text": [
      "WARNING:tensorflow:From /home/ai/anaconda3/envs/gpu/lib/python3.7/site-packages/tensorflow/python/ops/init_ops.py:1251: calling VarianceScaling.__init__ (from tensorflow.python.ops.init_ops) with dtype is deprecated and will be removed in a future version.\n",
      "Instructions for updating:\n",
      "Call initializer instance with the dtype argument instead of passing it to the constructor\n"
     ]
    }
   ],
   "source": [
    "embinplist = list()\n",
    "inplist = list()\n",
    "\n",
    "n2v_start_inp = Input((128,))\n",
    "n2v_start_reg = Dense(128,activation = \"relu\", use_bias = True)(n2v_start_inp)\n",
    "inplist.append(n2v_start_inp)\n",
    "embinplist.append(n2v_start_reg)\n",
    "\n",
    "n2v_end_inp = Input((128,))\n",
    "n2v_end_reg = Dense(128,activation = \"relu\", use_bias = True)(n2v_end_inp)\n",
    "inplist.append(n2v_end_inp)\n",
    "embinplist.append(n2v_end_reg)\n",
    "\n",
    "lanes_inp = Input((1,))\n",
    "lanes_reg= Dense(1,activation = \"relu\", use_bias = True)(lanes_inp)\n",
    "inplist.append(lanes_inp)\n",
    "embinplist.append(lanes_reg)\n",
    "\n",
    "oneway_inp = Input((2,))\n",
    "oneway_reg= Dense(2,activation = \"relu\", use_bias = True)(oneway_inp)\n",
    "inplist.append(oneway_inp)\n",
    "embinplist.append(oneway_reg)\n",
    "\n",
    "roadtype_inp = Input((13,))\n",
    "roadtype_reg= Dense(8,activation = \"relu\", use_bias = True)(roadtype_inp)\n",
    "inplist.append(roadtype_inp)\n",
    "embinplist.append(roadtype_reg)\n",
    "\n",
    "maxspeed_inp = Input((1,))\n",
    "maxspeed_reg= Dense(1,activation = \"relu\", use_bias = True)(maxspeed_inp)\n",
    "inplist.append(maxspeed_inp)\n",
    "embinplist.append(maxspeed_reg)\n",
    "\n",
    "nodetype_inp = Input((11,))\n",
    "nodetype_reg= Dense(8,activation = \"relu\", use_bias = True)(nodetype_inp)\n",
    "inplist.append(nodetype_inp)\n",
    "embinplist.append(nodetype_reg)\n",
    "\n",
    "combine = Concatenate()(embinplist)\n",
    "proj = Dense(32,activation = \"relu\",use_bias = True)(combine)\n",
    "proj = Dense(1,activation = \"linear\")(proj)\n",
    "\n",
    "emb = Model(inplist,proj)"
   ]
  },
  {
   "cell_type": "code",
   "execution_count": 35,
   "metadata": {},
   "outputs": [],
   "source": [
    "from sklearn.model_selection import train_test_split\n",
    "X_train, X_test, Y_train, Y_test = train_test_split(feature_32,meanspeed)"
   ]
  },
  {
   "cell_type": "code",
   "execution_count": 39,
   "metadata": {},
   "outputs": [
    {
     "name": "stdout",
     "output_type": "stream",
     "text": [
      "WARNING:tensorflow:From /home/ai/anaconda3/envs/gpu/lib/python3.7/site-packages/tensorflow/python/ops/init_ops.py:1251: calling VarianceScaling.__init__ (from tensorflow.python.ops.init_ops) with dtype is deprecated and will be removed in a future version.\n",
      "Instructions for updating:\n",
      "Call initializer instance with the dtype argument instead of passing it to the constructor\n"
     ]
    },
    {
     "ename": "ValueError",
     "evalue": "A `Concatenate` layer should be called on a list of at least 2 inputs",
     "output_type": "error",
     "traceback": [
      "\u001b[0;31m---------------------------------------------------------------------------\u001b[0m",
      "\u001b[0;31mValueError\u001b[0m                                Traceback (most recent call last)",
      "\u001b[0;32m<ipython-input-39-cc0315183378>\u001b[0m in \u001b[0;36m<module>\u001b[0;34m\u001b[0m\n\u001b[1;32m      7\u001b[0m \u001b[0membinplist\u001b[0m\u001b[0;34m.\u001b[0m\u001b[0mappend\u001b[0m\u001b[0;34m(\u001b[0m\u001b[0mfeature_reg\u001b[0m\u001b[0;34m)\u001b[0m\u001b[0;34m\u001b[0m\u001b[0;34m\u001b[0m\u001b[0m\n\u001b[1;32m      8\u001b[0m \u001b[0;34m\u001b[0m\u001b[0m\n\u001b[0;32m----> 9\u001b[0;31m \u001b[0mcombine\u001b[0m \u001b[0;34m=\u001b[0m \u001b[0mConcatenate\u001b[0m\u001b[0;34m(\u001b[0m\u001b[0;34m)\u001b[0m\u001b[0;34m(\u001b[0m\u001b[0membinplist\u001b[0m\u001b[0;34m)\u001b[0m\u001b[0;34m\u001b[0m\u001b[0;34m\u001b[0m\u001b[0m\n\u001b[0m\u001b[1;32m     10\u001b[0m \u001b[0mproj\u001b[0m \u001b[0;34m=\u001b[0m \u001b[0mDense\u001b[0m\u001b[0;34m(\u001b[0m\u001b[0;36m32\u001b[0m\u001b[0;34m,\u001b[0m\u001b[0mactivation\u001b[0m \u001b[0;34m=\u001b[0m \u001b[0;34m\"relu\"\u001b[0m\u001b[0;34m,\u001b[0m\u001b[0muse_bias\u001b[0m \u001b[0;34m=\u001b[0m \u001b[0;32mTrue\u001b[0m\u001b[0;34m)\u001b[0m\u001b[0;34m(\u001b[0m\u001b[0mcombine\u001b[0m\u001b[0;34m)\u001b[0m\u001b[0;34m\u001b[0m\u001b[0;34m\u001b[0m\u001b[0m\n\u001b[1;32m     11\u001b[0m \u001b[0mproj\u001b[0m \u001b[0;34m=\u001b[0m \u001b[0mDense\u001b[0m\u001b[0;34m(\u001b[0m\u001b[0;36m1\u001b[0m\u001b[0;34m,\u001b[0m\u001b[0mactivation\u001b[0m \u001b[0;34m=\u001b[0m \u001b[0;34m\"linear\"\u001b[0m\u001b[0;34m)\u001b[0m\u001b[0;34m(\u001b[0m\u001b[0mproj\u001b[0m\u001b[0;34m)\u001b[0m\u001b[0;34m\u001b[0m\u001b[0;34m\u001b[0m\u001b[0m\n",
      "\u001b[0;32m/home/ai/anaconda3/envs/gpu/lib/python3.7/site-packages/tensorflow/python/keras/engine/base_layer.py\u001b[0m in \u001b[0;36m__call__\u001b[0;34m(self, inputs, *args, **kwargs)\u001b[0m\n\u001b[1;32m    589\u001b[0m           \u001b[0;31m# Build layer if applicable (if the `build` method has been\u001b[0m\u001b[0;34m\u001b[0m\u001b[0;34m\u001b[0m\u001b[0;34m\u001b[0m\u001b[0m\n\u001b[1;32m    590\u001b[0m           \u001b[0;31m# overridden).\u001b[0m\u001b[0;34m\u001b[0m\u001b[0;34m\u001b[0m\u001b[0;34m\u001b[0m\u001b[0m\n\u001b[0;32m--> 591\u001b[0;31m           \u001b[0mself\u001b[0m\u001b[0;34m.\u001b[0m\u001b[0m_maybe_build\u001b[0m\u001b[0;34m(\u001b[0m\u001b[0minputs\u001b[0m\u001b[0;34m)\u001b[0m\u001b[0;34m\u001b[0m\u001b[0;34m\u001b[0m\u001b[0m\n\u001b[0m\u001b[1;32m    592\u001b[0m \u001b[0;34m\u001b[0m\u001b[0m\n\u001b[1;32m    593\u001b[0m           \u001b[0;31m# Wrapping `call` function in autograph to allow for dynamic control\u001b[0m\u001b[0;34m\u001b[0m\u001b[0;34m\u001b[0m\u001b[0;34m\u001b[0m\u001b[0m\n",
      "\u001b[0;32m/home/ai/anaconda3/envs/gpu/lib/python3.7/site-packages/tensorflow/python/keras/engine/base_layer.py\u001b[0m in \u001b[0;36m_maybe_build\u001b[0;34m(self, inputs)\u001b[0m\n\u001b[1;32m   1879\u001b[0m       \u001b[0;31m# operations.\u001b[0m\u001b[0;34m\u001b[0m\u001b[0;34m\u001b[0m\u001b[0;34m\u001b[0m\u001b[0m\n\u001b[1;32m   1880\u001b[0m       \u001b[0;32mwith\u001b[0m \u001b[0mtf_utils\u001b[0m\u001b[0;34m.\u001b[0m\u001b[0mmaybe_init_scope\u001b[0m\u001b[0;34m(\u001b[0m\u001b[0mself\u001b[0m\u001b[0;34m)\u001b[0m\u001b[0;34m:\u001b[0m\u001b[0;34m\u001b[0m\u001b[0;34m\u001b[0m\u001b[0m\n\u001b[0;32m-> 1881\u001b[0;31m         \u001b[0mself\u001b[0m\u001b[0;34m.\u001b[0m\u001b[0mbuild\u001b[0m\u001b[0;34m(\u001b[0m\u001b[0minput_shapes\u001b[0m\u001b[0;34m)\u001b[0m\u001b[0;34m\u001b[0m\u001b[0;34m\u001b[0m\u001b[0m\n\u001b[0m\u001b[1;32m   1882\u001b[0m     \u001b[0;31m# We must set self.built since user defined build functions are not\u001b[0m\u001b[0;34m\u001b[0m\u001b[0;34m\u001b[0m\u001b[0;34m\u001b[0m\u001b[0m\n\u001b[1;32m   1883\u001b[0m     \u001b[0;31m# constrained to set self.built.\u001b[0m\u001b[0;34m\u001b[0m\u001b[0;34m\u001b[0m\u001b[0;34m\u001b[0m\u001b[0m\n",
      "\u001b[0;32m/home/ai/anaconda3/envs/gpu/lib/python3.7/site-packages/tensorflow/python/keras/utils/tf_utils.py\u001b[0m in \u001b[0;36mwrapper\u001b[0;34m(instance, input_shape)\u001b[0m\n\u001b[1;32m    293\u001b[0m     \u001b[0;32mif\u001b[0m \u001b[0minput_shape\u001b[0m \u001b[0;32mis\u001b[0m \u001b[0;32mnot\u001b[0m \u001b[0;32mNone\u001b[0m\u001b[0;34m:\u001b[0m\u001b[0;34m\u001b[0m\u001b[0;34m\u001b[0m\u001b[0m\n\u001b[1;32m    294\u001b[0m       \u001b[0minput_shape\u001b[0m \u001b[0;34m=\u001b[0m \u001b[0mconvert_shapes\u001b[0m\u001b[0;34m(\u001b[0m\u001b[0minput_shape\u001b[0m\u001b[0;34m,\u001b[0m \u001b[0mto_tuples\u001b[0m\u001b[0;34m=\u001b[0m\u001b[0;32mTrue\u001b[0m\u001b[0;34m)\u001b[0m\u001b[0;34m\u001b[0m\u001b[0;34m\u001b[0m\u001b[0m\n\u001b[0;32m--> 295\u001b[0;31m     \u001b[0moutput_shape\u001b[0m \u001b[0;34m=\u001b[0m \u001b[0mfn\u001b[0m\u001b[0;34m(\u001b[0m\u001b[0minstance\u001b[0m\u001b[0;34m,\u001b[0m \u001b[0minput_shape\u001b[0m\u001b[0;34m)\u001b[0m\u001b[0;34m\u001b[0m\u001b[0;34m\u001b[0m\u001b[0m\n\u001b[0m\u001b[1;32m    296\u001b[0m     \u001b[0;31m# Return shapes from `fn` as TensorShapes.\u001b[0m\u001b[0;34m\u001b[0m\u001b[0;34m\u001b[0m\u001b[0;34m\u001b[0m\u001b[0m\n\u001b[1;32m    297\u001b[0m     \u001b[0;32mif\u001b[0m \u001b[0moutput_shape\u001b[0m \u001b[0;32mis\u001b[0m \u001b[0;32mnot\u001b[0m \u001b[0;32mNone\u001b[0m\u001b[0;34m:\u001b[0m\u001b[0;34m\u001b[0m\u001b[0;34m\u001b[0m\u001b[0m\n",
      "\u001b[0;32m/home/ai/anaconda3/envs/gpu/lib/python3.7/site-packages/tensorflow/python/keras/layers/merge.py\u001b[0m in \u001b[0;36mbuild\u001b[0;34m(self, input_shape)\u001b[0m\n\u001b[1;32m    376\u001b[0m     \u001b[0;31m# Used purely for shape validation.\u001b[0m\u001b[0;34m\u001b[0m\u001b[0;34m\u001b[0m\u001b[0;34m\u001b[0m\u001b[0m\n\u001b[1;32m    377\u001b[0m     \u001b[0;32mif\u001b[0m \u001b[0;32mnot\u001b[0m \u001b[0misinstance\u001b[0m\u001b[0;34m(\u001b[0m\u001b[0minput_shape\u001b[0m\u001b[0;34m,\u001b[0m \u001b[0mlist\u001b[0m\u001b[0;34m)\u001b[0m \u001b[0;32mor\u001b[0m \u001b[0mlen\u001b[0m\u001b[0;34m(\u001b[0m\u001b[0minput_shape\u001b[0m\u001b[0;34m)\u001b[0m \u001b[0;34m<\u001b[0m \u001b[0;36m2\u001b[0m\u001b[0;34m:\u001b[0m\u001b[0;34m\u001b[0m\u001b[0;34m\u001b[0m\u001b[0m\n\u001b[0;32m--> 378\u001b[0;31m       raise ValueError('A `Concatenate` layer should be called '\n\u001b[0m\u001b[1;32m    379\u001b[0m                        'on a list of at least 2 inputs')\n\u001b[1;32m    380\u001b[0m     \u001b[0;32mif\u001b[0m \u001b[0mall\u001b[0m\u001b[0;34m(\u001b[0m\u001b[0mshape\u001b[0m \u001b[0;32mis\u001b[0m \u001b[0;32mNone\u001b[0m \u001b[0;32mfor\u001b[0m \u001b[0mshape\u001b[0m \u001b[0;32min\u001b[0m \u001b[0minput_shape\u001b[0m\u001b[0;34m)\u001b[0m\u001b[0;34m:\u001b[0m\u001b[0;34m\u001b[0m\u001b[0;34m\u001b[0m\u001b[0m\n",
      "\u001b[0;31mValueError\u001b[0m: A `Concatenate` layer should be called on a list of at least 2 inputs"
     ]
    }
   ],
   "source": [
    "embinplist = list()\n",
    "inplist = list()\n",
    "\n",
    "feature_inp = Input((32,))\n",
    "feature_reg = Dense(32,activation = \"relu\", use_bias = True)(feature_inp)\n",
    "inplist.append(feature_inp)\n",
    "embinplist.append(feature_reg)\n",
    "\n",
    "combine = Concatenate()(embinplist)\n",
    "proj = Dense(32,activation = \"relu\",use_bias = True)(combine)\n",
    "proj = Dense(1,activation = \"linear\")(proj)\n",
    "\n",
    "emb = Model(inplist,proj)"
   ]
  },
  {
   "cell_type": "code",
   "execution_count": 4,
   "metadata": {},
   "outputs": [
    {
     "name": "stdout",
     "output_type": "stream",
     "text": [
      "Model: \"model\"\n",
      "__________________________________________________________________________________________________\n",
      "Layer (type)                    Output Shape         Param #     Connected to                     \n",
      "==================================================================================================\n",
      "input_1 (InputLayer)            [(None, 128)]        0                                            \n",
      "__________________________________________________________________________________________________\n",
      "input_2 (InputLayer)            [(None, 128)]        0                                            \n",
      "__________________________________________________________________________________________________\n",
      "input_3 (InputLayer)            [(None, 1)]          0                                            \n",
      "__________________________________________________________________________________________________\n",
      "input_4 (InputLayer)            [(None, 2)]          0                                            \n",
      "__________________________________________________________________________________________________\n",
      "input_5 (InputLayer)            [(None, 13)]         0                                            \n",
      "__________________________________________________________________________________________________\n",
      "input_6 (InputLayer)            [(None, 1)]          0                                            \n",
      "__________________________________________________________________________________________________\n",
      "input_7 (InputLayer)            [(None, 11)]         0                                            \n",
      "__________________________________________________________________________________________________\n",
      "dense (Dense)                   (None, 128)          16512       input_1[0][0]                    \n",
      "__________________________________________________________________________________________________\n",
      "dense_1 (Dense)                 (None, 128)          16512       input_2[0][0]                    \n",
      "__________________________________________________________________________________________________\n",
      "dense_2 (Dense)                 (None, 1)            2           input_3[0][0]                    \n",
      "__________________________________________________________________________________________________\n",
      "dense_3 (Dense)                 (None, 2)            6           input_4[0][0]                    \n",
      "__________________________________________________________________________________________________\n",
      "dense_4 (Dense)                 (None, 8)            112         input_5[0][0]                    \n",
      "__________________________________________________________________________________________________\n",
      "dense_5 (Dense)                 (None, 1)            2           input_6[0][0]                    \n",
      "__________________________________________________________________________________________________\n",
      "dense_6 (Dense)                 (None, 8)            96          input_7[0][0]                    \n",
      "__________________________________________________________________________________________________\n",
      "concatenate (Concatenate)       (None, 276)          0           dense[0][0]                      \n",
      "                                                                 dense_1[0][0]                    \n",
      "                                                                 dense_2[0][0]                    \n",
      "                                                                 dense_3[0][0]                    \n",
      "                                                                 dense_4[0][0]                    \n",
      "                                                                 dense_5[0][0]                    \n",
      "                                                                 dense_6[0][0]                    \n",
      "__________________________________________________________________________________________________\n",
      "dense_7 (Dense)                 (None, 32)           8864        concatenate[0][0]                \n",
      "__________________________________________________________________________________________________\n",
      "dense_8 (Dense)                 (None, 1)            33          dense_7[0][0]                    \n",
      "==================================================================================================\n",
      "Total params: 42,139\n",
      "Trainable params: 42,139\n",
      "Non-trainable params: 0\n",
      "__________________________________________________________________________________________________\n"
     ]
    }
   ],
   "source": [
    "emb.summary()"
   ]
  },
  {
   "cell_type": "code",
   "execution_count": 5,
   "metadata": {},
   "outputs": [],
   "source": [
    "adam=Adam(lr=0.01,beta_1=0.9,beta_2=0.999)\n",
    "emb.compile(optimizer=adam, loss='mae',metrics=['mae'])"
   ]
  },
  {
   "cell_type": "code",
   "execution_count": 6,
   "metadata": {
    "scrolled": true
   },
   "outputs": [
    {
     "name": "stdout",
     "output_type": "stream",
     "text": [
      "Train on 86992 samples, validate on 28998 samples\n",
      "Epoch 1/100\n",
      "86992/86992 [==============================] - 4s 43us/sample - loss: 9.1310 - mean_absolute_error: 9.1310 - val_loss: 7.3224 - val_mean_absolute_error: 7.3224\n",
      "Epoch 2/100\n",
      "86992/86992 [==============================] - 3s 34us/sample - loss: 6.6397 - mean_absolute_error: 6.6397 - val_loss: 6.3645 - val_mean_absolute_error: 6.3645\n",
      "Epoch 3/100\n",
      "86992/86992 [==============================] - 3s 34us/sample - loss: 5.8340 - mean_absolute_error: 5.8340 - val_loss: 5.7707 - val_mean_absolute_error: 5.7707\n",
      "Epoch 4/100\n",
      "86992/86992 [==============================] - 3s 34us/sample - loss: 5.2389 - mean_absolute_error: 5.2389 - val_loss: 5.6245 - val_mean_absolute_error: 5.6245\n",
      "Epoch 5/100\n",
      "86992/86992 [==============================] - 3s 34us/sample - loss: 4.8846 - mean_absolute_error: 4.8847 - val_loss: 5.2896 - val_mean_absolute_error: 5.2896\n",
      "Epoch 6/100\n",
      "86992/86992 [==============================] - 3s 35us/sample - loss: 4.6349 - mean_absolute_error: 4.6349 - val_loss: 5.0261 - val_mean_absolute_error: 5.0261\n",
      "Epoch 7/100\n",
      "86992/86992 [==============================] - 3s 35us/sample - loss: 4.4201 - mean_absolute_error: 4.4201 - val_loss: 4.8934 - val_mean_absolute_error: 4.8934\n",
      "Epoch 8/100\n",
      "86992/86992 [==============================] - 3s 34us/sample - loss: 4.2623 - mean_absolute_error: 4.2623 - val_loss: 4.8142 - val_mean_absolute_error: 4.8142\n",
      "Epoch 9/100\n",
      "86992/86992 [==============================] - 3s 34us/sample - loss: 4.1354 - mean_absolute_error: 4.1354 - val_loss: 4.7168 - val_mean_absolute_error: 4.7168\n",
      "Epoch 10/100\n",
      "86992/86992 [==============================] - 3s 35us/sample - loss: 4.0129 - mean_absolute_error: 4.0129 - val_loss: 4.6545 - val_mean_absolute_error: 4.6545\n",
      "Epoch 11/100\n",
      "86992/86992 [==============================] - 3s 33us/sample - loss: 3.9338 - mean_absolute_error: 3.9338 - val_loss: 4.5722 - val_mean_absolute_error: 4.5722\n",
      "Epoch 12/100\n",
      "86992/86992 [==============================] - 3s 34us/sample - loss: 3.8565 - mean_absolute_error: 3.8565 - val_loss: 4.6150 - val_mean_absolute_error: 4.6150\n",
      "Epoch 13/100\n",
      "86992/86992 [==============================] - 3s 34us/sample - loss: 3.7881 - mean_absolute_error: 3.7881 - val_loss: 4.5684 - val_mean_absolute_error: 4.5684\n",
      "Epoch 14/100\n",
      "86992/86992 [==============================] - 3s 35us/sample - loss: 3.6914 - mean_absolute_error: 3.6914 - val_loss: 4.5157 - val_mean_absolute_error: 4.5157\n",
      "Epoch 15/100\n",
      "86992/86992 [==============================] - 3s 34us/sample - loss: 3.6410 - mean_absolute_error: 3.6410 - val_loss: 4.5135 - val_mean_absolute_error: 4.5135\n",
      "Epoch 16/100\n",
      "86992/86992 [==============================] - 3s 35us/sample - loss: 3.5951 - mean_absolute_error: 3.5951 - val_loss: 4.4510 - val_mean_absolute_error: 4.4510\n",
      "Epoch 17/100\n",
      "86992/86992 [==============================] - 3s 33us/sample - loss: 3.5331 - mean_absolute_error: 3.5331 - val_loss: 4.4092 - val_mean_absolute_error: 4.4092\n",
      "Epoch 18/100\n",
      "86992/86992 [==============================] - 3s 34us/sample - loss: 3.4914 - mean_absolute_error: 3.4914 - val_loss: 4.3683 - val_mean_absolute_error: 4.3683\n",
      "Epoch 19/100\n",
      "86992/86992 [==============================] - 3s 34us/sample - loss: 3.4641 - mean_absolute_error: 3.4641 - val_loss: 4.4311 - val_mean_absolute_error: 4.4311\n",
      "Epoch 20/100\n",
      "86992/86992 [==============================] - 3s 35us/sample - loss: 3.4080 - mean_absolute_error: 3.4080 - val_loss: 4.3653 - val_mean_absolute_error: 4.3653\n",
      "Epoch 21/100\n",
      "86992/86992 [==============================] - 3s 33us/sample - loss: 3.3747 - mean_absolute_error: 3.3747 - val_loss: 4.3436 - val_mean_absolute_error: 4.3436\n",
      "Epoch 22/100\n",
      "86992/86992 [==============================] - 3s 35us/sample - loss: 3.3537 - mean_absolute_error: 3.3537 - val_loss: 4.3425 - val_mean_absolute_error: 4.3425\n",
      "Epoch 23/100\n",
      "86992/86992 [==============================] - 3s 34us/sample - loss: 3.3162 - mean_absolute_error: 3.3162 - val_loss: 4.4273 - val_mean_absolute_error: 4.4273\n",
      "Epoch 24/100\n",
      "86992/86992 [==============================] - 3s 34us/sample - loss: 3.2996 - mean_absolute_error: 3.2996 - val_loss: 4.3278 - val_mean_absolute_error: 4.3278\n",
      "Epoch 25/100\n",
      "86992/86992 [==============================] - 3s 34us/sample - loss: 3.2501 - mean_absolute_error: 3.2501 - val_loss: 4.3563 - val_mean_absolute_error: 4.3563\n",
      "Epoch 26/100\n",
      "86992/86992 [==============================] - 3s 34us/sample - loss: 3.2474 - mean_absolute_error: 3.2474 - val_loss: 4.2426 - val_mean_absolute_error: 4.2426\n",
      "Epoch 27/100\n",
      "86992/86992 [==============================] - 3s 34us/sample - loss: 3.2050 - mean_absolute_error: 3.2050 - val_loss: 4.2591 - val_mean_absolute_error: 4.2591\n",
      "Epoch 28/100\n",
      "86992/86992 [==============================] - 3s 33us/sample - loss: 3.1779 - mean_absolute_error: 3.1779 - val_loss: 4.2595 - val_mean_absolute_error: 4.2595\n",
      "Epoch 29/100\n",
      "86992/86992 [==============================] - 3s 34us/sample - loss: 3.1629 - mean_absolute_error: 3.1629 - val_loss: 4.2586 - val_mean_absolute_error: 4.2586\n",
      "Epoch 30/100\n",
      "86992/86992 [==============================] - 3s 34us/sample - loss: 3.1295 - mean_absolute_error: 3.1295 - val_loss: 4.2360 - val_mean_absolute_error: 4.2360\n",
      "Epoch 31/100\n",
      "86992/86992 [==============================] - 3s 35us/sample - loss: 3.0997 - mean_absolute_error: 3.0997 - val_loss: 4.2514 - val_mean_absolute_error: 4.2514\n",
      "Epoch 32/100\n",
      "86992/86992 [==============================] - 3s 34us/sample - loss: 3.0994 - mean_absolute_error: 3.0994 - val_loss: 4.1959 - val_mean_absolute_error: 4.1959\n",
      "Epoch 33/100\n",
      "86992/86992 [==============================] - 3s 35us/sample - loss: 3.0766 - mean_absolute_error: 3.0766 - val_loss: 4.1965 - val_mean_absolute_error: 4.1965\n",
      "Epoch 34/100\n",
      "86992/86992 [==============================] - 3s 34us/sample - loss: 3.0554 - mean_absolute_error: 3.0554 - val_loss: 4.2137 - val_mean_absolute_error: 4.2137\n",
      "Epoch 35/100\n",
      "86992/86992 [==============================] - 3s 33us/sample - loss: 3.0433 - mean_absolute_error: 3.0433 - val_loss: 4.2228 - val_mean_absolute_error: 4.2228\n",
      "Epoch 36/100\n",
      "86992/86992 [==============================] - 3s 33us/sample - loss: 3.0024 - mean_absolute_error: 3.0024 - val_loss: 4.2156 - val_mean_absolute_error: 4.2156\n",
      "Epoch 37/100\n",
      "86992/86992 [==============================] - 3s 34us/sample - loss: 3.0061 - mean_absolute_error: 3.0061 - val_loss: 4.2345 - val_mean_absolute_error: 4.2345\n",
      "Epoch 38/100\n",
      "86992/86992 [==============================] - 3s 34us/sample - loss: 2.9973 - mean_absolute_error: 2.9973 - val_loss: 4.1576 - val_mean_absolute_error: 4.1576\n",
      "Epoch 39/100\n",
      "86992/86992 [==============================] - 3s 35us/sample - loss: 2.9531 - mean_absolute_error: 2.9531 - val_loss: 4.2232 - val_mean_absolute_error: 4.2232\n",
      "Epoch 40/100\n",
      "86992/86992 [==============================] - 3s 34us/sample - loss: 2.9469 - mean_absolute_error: 2.9469 - val_loss: 4.2025 - val_mean_absolute_error: 4.2025\n",
      "Epoch 41/100\n",
      "86992/86992 [==============================] - 3s 33us/sample - loss: 2.9298 - mean_absolute_error: 2.9298 - val_loss: 4.1741 - val_mean_absolute_error: 4.1741\n",
      "Epoch 42/100\n",
      "86992/86992 [==============================] - 3s 34us/sample - loss: 2.9343 - mean_absolute_error: 2.9343 - val_loss: 4.1482 - val_mean_absolute_error: 4.1482\n",
      "Epoch 43/100\n",
      "86992/86992 [==============================] - 3s 33us/sample - loss: 2.9116 - mean_absolute_error: 2.9116 - val_loss: 4.1641 - val_mean_absolute_error: 4.1641\n",
      "Epoch 44/100\n",
      "86992/86992 [==============================] - 3s 32us/sample - loss: 2.9089 - mean_absolute_error: 2.9089 - val_loss: 4.1613 - val_mean_absolute_error: 4.1613\n",
      "Epoch 45/100\n",
      "86992/86992 [==============================] - 3s 34us/sample - loss: 2.8807 - mean_absolute_error: 2.8807 - val_loss: 4.1561 - val_mean_absolute_error: 4.1561\n",
      "Epoch 46/100\n",
      "86992/86992 [==============================] - 3s 33us/sample - loss: 2.8692 - mean_absolute_error: 2.8692 - val_loss: 4.1905 - val_mean_absolute_error: 4.1905\n",
      "Epoch 47/100\n",
      "86992/86992 [==============================] - 3s 32us/sample - loss: 2.8574 - mean_absolute_error: 2.8574 - val_loss: 4.1542 - val_mean_absolute_error: 4.1542\n",
      "Epoch 48/100\n",
      "86992/86992 [==============================] - 3s 34us/sample - loss: 2.8440 - mean_absolute_error: 2.8440 - val_loss: 4.1863 - val_mean_absolute_error: 4.1863\n",
      "Epoch 49/100\n",
      "86992/86992 [==============================] - 3s 34us/sample - loss: 2.8540 - mean_absolute_error: 2.8540 - val_loss: 4.1543 - val_mean_absolute_error: 4.1543\n",
      "Epoch 50/100\n",
      "86992/86992 [==============================] - 3s 35us/sample - loss: 2.8223 - mean_absolute_error: 2.8223 - val_loss: 4.1406 - val_mean_absolute_error: 4.1406\n",
      "Epoch 51/100\n",
      "86992/86992 [==============================] - 3s 34us/sample - loss: 2.8067 - mean_absolute_error: 2.8067 - val_loss: 4.1540 - val_mean_absolute_error: 4.1540\n",
      "Epoch 52/100\n",
      "86992/86992 [==============================] - 3s 35us/sample - loss: 2.7977 - mean_absolute_error: 2.7977 - val_loss: 4.1378 - val_mean_absolute_error: 4.1378\n",
      "Epoch 53/100\n",
      "86992/86992 [==============================] - 3s 35us/sample - loss: 2.8077 - mean_absolute_error: 2.8077 - val_loss: 4.1551 - val_mean_absolute_error: 4.1551\n",
      "Epoch 54/100\n",
      "86992/86992 [==============================] - 3s 33us/sample - loss: 2.7739 - mean_absolute_error: 2.7739 - val_loss: 4.1224 - val_mean_absolute_error: 4.1224\n",
      "Epoch 55/100\n",
      "86992/86992 [==============================] - 3s 33us/sample - loss: 2.7720 - mean_absolute_error: 2.7720 - val_loss: 4.1394 - val_mean_absolute_error: 4.1394\n",
      "Epoch 56/100\n",
      "86992/86992 [==============================] - 3s 34us/sample - loss: 2.7747 - mean_absolute_error: 2.7747 - val_loss: 4.1264 - val_mean_absolute_error: 4.1264\n",
      "Epoch 57/100\n",
      "86992/86992 [==============================] - 3s 34us/sample - loss: 2.7692 - mean_absolute_error: 2.7692 - val_loss: 4.1338 - val_mean_absolute_error: 4.1338\n",
      "Epoch 58/100\n",
      "86992/86992 [==============================] - 3s 34us/sample - loss: 2.7652 - mean_absolute_error: 2.7652 - val_loss: 4.1169 - val_mean_absolute_error: 4.1169\n",
      "Epoch 59/100\n",
      "86992/86992 [==============================] - 3s 35us/sample - loss: 2.7295 - mean_absolute_error: 2.7295 - val_loss: 4.1132 - val_mean_absolute_error: 4.1132\n",
      "Epoch 60/100\n",
      "86992/86992 [==============================] - 3s 35us/sample - loss: 2.7278 - mean_absolute_error: 2.7278 - val_loss: 4.1402 - val_mean_absolute_error: 4.1402\n",
      "Epoch 61/100\n",
      "86992/86992 [==============================] - 3s 34us/sample - loss: 2.7122 - mean_absolute_error: 2.7122 - val_loss: 4.1127 - val_mean_absolute_error: 4.1127\n",
      "Epoch 62/100\n",
      "86992/86992 [==============================] - 3s 34us/sample - loss: 2.7128 - mean_absolute_error: 2.7128 - val_loss: 4.0914 - val_mean_absolute_error: 4.0914\n",
      "Epoch 63/100\n",
      "86992/86992 [==============================] - 3s 33us/sample - loss: 2.7015 - mean_absolute_error: 2.7015 - val_loss: 4.1227 - val_mean_absolute_error: 4.1227\n",
      "Epoch 64/100\n",
      "86992/86992 [==============================] - 3s 34us/sample - loss: 2.6905 - mean_absolute_error: 2.6905 - val_loss: 4.1559 - val_mean_absolute_error: 4.1559\n",
      "Epoch 65/100\n",
      "86992/86992 [==============================] - 3s 34us/sample - loss: 2.6726 - mean_absolute_error: 2.6726 - val_loss: 4.1034 - val_mean_absolute_error: 4.1034\n",
      "Epoch 66/100\n",
      "86992/86992 [==============================] - 3s 35us/sample - loss: 2.6581 - mean_absolute_error: 2.6581 - val_loss: 4.0850 - val_mean_absolute_error: 4.0850\n",
      "Epoch 67/100\n",
      "86992/86992 [==============================] - 3s 33us/sample - loss: 2.6619 - mean_absolute_error: 2.6619 - val_loss: 4.1358 - val_mean_absolute_error: 4.1358\n",
      "Epoch 68/100\n",
      "86992/86992 [==============================] - 3s 33us/sample - loss: 2.6516 - mean_absolute_error: 2.6516 - val_loss: 4.1047 - val_mean_absolute_error: 4.1047\n",
      "Epoch 69/100\n",
      "86992/86992 [==============================] - 3s 35us/sample - loss: 2.6539 - mean_absolute_error: 2.6539 - val_loss: 4.1247 - val_mean_absolute_error: 4.1247\n",
      "Epoch 70/100\n",
      "86992/86992 [==============================] - 3s 35us/sample - loss: 2.6449 - mean_absolute_error: 2.6449 - val_loss: 4.0805 - val_mean_absolute_error: 4.0805\n",
      "Epoch 71/100\n",
      "86992/86992 [==============================] - 3s 35us/sample - loss: 2.6440 - mean_absolute_error: 2.6440 - val_loss: 4.0955 - val_mean_absolute_error: 4.0955\n",
      "Epoch 72/100\n",
      "86992/86992 [==============================] - 3s 34us/sample - loss: 2.6299 - mean_absolute_error: 2.6299 - val_loss: 4.0905 - val_mean_absolute_error: 4.0905\n",
      "Epoch 73/100\n",
      "86992/86992 [==============================] - 3s 35us/sample - loss: 2.6173 - mean_absolute_error: 2.6173 - val_loss: 4.0703 - val_mean_absolute_error: 4.0703\n",
      "Epoch 74/100\n",
      "86992/86992 [==============================] - 3s 33us/sample - loss: 2.6135 - mean_absolute_error: 2.6135 - val_loss: 4.0772 - val_mean_absolute_error: 4.0772\n",
      "Epoch 75/100\n",
      "86992/86992 [==============================] - 3s 33us/sample - loss: 2.6310 - mean_absolute_error: 2.6310 - val_loss: 4.0855 - val_mean_absolute_error: 4.0855\n",
      "Epoch 76/100\n",
      "86992/86992 [==============================] - 3s 35us/sample - loss: 2.6057 - mean_absolute_error: 2.6057 - val_loss: 4.0839 - val_mean_absolute_error: 4.0839\n",
      "Epoch 77/100\n",
      "86992/86992 [==============================] - 3s 33us/sample - loss: 2.5978 - mean_absolute_error: 2.5978 - val_loss: 4.1841 - val_mean_absolute_error: 4.1841\n",
      "Epoch 78/100\n",
      "86992/86992 [==============================] - 3s 34us/sample - loss: 2.5755 - mean_absolute_error: 2.5755 - val_loss: 4.1023 - val_mean_absolute_error: 4.1023\n",
      "Epoch 79/100\n",
      "86992/86992 [==============================] - 3s 34us/sample - loss: 2.5806 - mean_absolute_error: 2.5806 - val_loss: 4.0677 - val_mean_absolute_error: 4.0677\n",
      "Epoch 80/100\n",
      "86992/86992 [==============================] - 3s 33us/sample - loss: 2.5868 - mean_absolute_error: 2.5868 - val_loss: 4.1395 - val_mean_absolute_error: 4.1395\n",
      "Epoch 81/100\n",
      "86992/86992 [==============================] - 3s 34us/sample - loss: 2.5903 - mean_absolute_error: 2.5903 - val_loss: 4.0771 - val_mean_absolute_error: 4.0771\n",
      "Epoch 82/100\n",
      "86992/86992 [==============================] - 3s 34us/sample - loss: 2.5698 - mean_absolute_error: 2.5698 - val_loss: 4.0857 - val_mean_absolute_error: 4.0857\n",
      "Epoch 83/100\n",
      "86992/86992 [==============================] - 3s 34us/sample - loss: 2.5722 - mean_absolute_error: 2.5722 - val_loss: 4.0803 - val_mean_absolute_error: 4.0803\n",
      "Epoch 84/100\n",
      "86992/86992 [==============================] - 3s 33us/sample - loss: 2.5652 - mean_absolute_error: 2.5652 - val_loss: 4.0995 - val_mean_absolute_error: 4.0995\n",
      "Epoch 85/100\n",
      "86992/86992 [==============================] - 3s 33us/sample - loss: 2.5525 - mean_absolute_error: 2.5525 - val_loss: 4.0994 - val_mean_absolute_error: 4.0994\n",
      "Epoch 86/100\n",
      "86992/86992 [==============================] - 3s 34us/sample - loss: 2.5476 - mean_absolute_error: 2.5476 - val_loss: 4.0696 - val_mean_absolute_error: 4.0696\n",
      "Epoch 87/100\n",
      "86992/86992 [==============================] - 3s 33us/sample - loss: 2.5273 - mean_absolute_error: 2.5274 - val_loss: 4.0896 - val_mean_absolute_error: 4.0896\n",
      "Epoch 88/100\n",
      "86992/86992 [==============================] - 3s 34us/sample - loss: 2.5403 - mean_absolute_error: 2.5403 - val_loss: 4.0691 - val_mean_absolute_error: 4.0691\n",
      "Epoch 89/100\n",
      "86992/86992 [==============================] - 3s 34us/sample - loss: 2.5237 - mean_absolute_error: 2.5237 - val_loss: 4.0706 - val_mean_absolute_error: 4.0706\n",
      "Epoch 90/100\n",
      "86992/86992 [==============================] - 3s 33us/sample - loss: 2.5313 - mean_absolute_error: 2.5313 - val_loss: 4.1285 - val_mean_absolute_error: 4.1285\n",
      "Epoch 91/100\n",
      "86992/86992 [==============================] - 3s 34us/sample - loss: 2.5138 - mean_absolute_error: 2.5138 - val_loss: 4.0707 - val_mean_absolute_error: 4.0707\n",
      "Epoch 92/100\n",
      "86992/86992 [==============================] - 3s 34us/sample - loss: 2.5170 - mean_absolute_error: 2.5170 - val_loss: 4.1082 - val_mean_absolute_error: 4.1082\n",
      "Epoch 93/100\n",
      "86992/86992 [==============================] - 3s 34us/sample - loss: 2.5022 - mean_absolute_error: 2.5022 - val_loss: 4.1076 - val_mean_absolute_error: 4.1076\n",
      "Epoch 94/100\n",
      "86992/86992 [==============================] - 3s 35us/sample - loss: 2.5216 - mean_absolute_error: 2.5216 - val_loss: 4.1396 - val_mean_absolute_error: 4.1396\n",
      "Epoch 95/100\n"
     ]
    },
    {
     "name": "stdout",
     "output_type": "stream",
     "text": [
      "86992/86992 [==============================] - 3s 35us/sample - loss: 2.4902 - mean_absolute_error: 2.4902 - val_loss: 4.0690 - val_mean_absolute_error: 4.0690\n",
      "Epoch 96/100\n",
      "86992/86992 [==============================] - 3s 34us/sample - loss: 2.5027 - mean_absolute_error: 2.5027 - val_loss: 4.0883 - val_mean_absolute_error: 4.0883\n",
      "Epoch 97/100\n",
      "86992/86992 [==============================] - 3s 35us/sample - loss: 2.4986 - mean_absolute_error: 2.4986 - val_loss: 4.0712 - val_mean_absolute_error: 4.0712\n",
      "Epoch 98/100\n",
      "86992/86992 [==============================] - 3s 34us/sample - loss: 2.4915 - mean_absolute_error: 2.4915 - val_loss: 4.0748 - val_mean_absolute_error: 4.0748\n",
      "Epoch 99/100\n",
      "86992/86992 [==============================] - 3s 32us/sample - loss: 2.4767 - mean_absolute_error: 2.4767 - val_loss: 4.0534 - val_mean_absolute_error: 4.0534\n",
      "Epoch 100/100\n",
      "86992/86992 [==============================] - 3s 32us/sample - loss: 2.4760 - mean_absolute_error: 2.4760 - val_loss: 4.0856 - val_mean_absolute_error: 4.0856\n"
     ]
    },
    {
     "data": {
      "text/plain": [
       "<tensorflow.python.keras.callbacks.History at 0x7fb8bf946e50>"
      ]
     },
     "execution_count": 6,
     "metadata": {},
     "output_type": "execute_result"
    }
   ],
   "source": [
    "emb.fit([n2v_start_train,n2v_end_train,lanes_train,oneway_train,roadtype_train,maxspeed_train,nodetype_train],\n",
    "        meanspeed_train,\n",
    "        epochs=100,batch_size=256,\n",
    "        validation_data=([n2v_start_test,n2v_end_test,lanes_test,oneway_test,roadtype_test,maxspeed_test,nodetype_test],\n",
    "        meanspeed_test)\n",
    "       )"
   ]
  },
  {
   "cell_type": "code",
   "execution_count": 49,
   "metadata": {},
   "outputs": [],
   "source": [
    "emb.save('/home/fyp2/Ideaer/Madrid/model/all')"
   ]
  },
  {
   "cell_type": "code",
   "execution_count": null,
   "metadata": {},
   "outputs": [],
   "source": []
  }
 ],
 "metadata": {
  "kernelspec": {
   "display_name": "Python [conda env:gpu]",
   "language": "python",
   "name": "conda-env-gpu-py"
  },
  "language_info": {
   "codemirror_mode": {
    "name": "ipython",
    "version": 3
   },
   "file_extension": ".py",
   "mimetype": "text/x-python",
   "name": "python",
   "nbconvert_exporter": "python",
   "pygments_lexer": "ipython3",
   "version": "3.7.5"
  }
 },
 "nbformat": 4,
 "nbformat_minor": 2
}
