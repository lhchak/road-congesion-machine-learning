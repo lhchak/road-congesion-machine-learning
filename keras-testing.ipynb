{
 "cells": [
  {
   "cell_type": "code",
   "execution_count": 1,
   "metadata": {},
   "outputs": [
    {
     "name": "stderr",
     "output_type": "stream",
     "text": [
      "/home/ai/anaconda3/envs/gpu/lib/python3.7/site-packages/tensorflow/python/framework/dtypes.py:516: FutureWarning: Passing (type, 1) or '1type' as a synonym of type is deprecated; in a future version of numpy, it will be understood as (type, (1,)) / '(1,)type'.\n",
      "  _np_qint8 = np.dtype([(\"qint8\", np.int8, 1)])\n",
      "/home/ai/anaconda3/envs/gpu/lib/python3.7/site-packages/tensorflow/python/framework/dtypes.py:517: FutureWarning: Passing (type, 1) or '1type' as a synonym of type is deprecated; in a future version of numpy, it will be understood as (type, (1,)) / '(1,)type'.\n",
      "  _np_quint8 = np.dtype([(\"quint8\", np.uint8, 1)])\n",
      "/home/ai/anaconda3/envs/gpu/lib/python3.7/site-packages/tensorflow/python/framework/dtypes.py:518: FutureWarning: Passing (type, 1) or '1type' as a synonym of type is deprecated; in a future version of numpy, it will be understood as (type, (1,)) / '(1,)type'.\n",
      "  _np_qint16 = np.dtype([(\"qint16\", np.int16, 1)])\n",
      "/home/ai/anaconda3/envs/gpu/lib/python3.7/site-packages/tensorflow/python/framework/dtypes.py:519: FutureWarning: Passing (type, 1) or '1type' as a synonym of type is deprecated; in a future version of numpy, it will be understood as (type, (1,)) / '(1,)type'.\n",
      "  _np_quint16 = np.dtype([(\"quint16\", np.uint16, 1)])\n",
      "/home/ai/anaconda3/envs/gpu/lib/python3.7/site-packages/tensorflow/python/framework/dtypes.py:520: FutureWarning: Passing (type, 1) or '1type' as a synonym of type is deprecated; in a future version of numpy, it will be understood as (type, (1,)) / '(1,)type'.\n",
      "  _np_qint32 = np.dtype([(\"qint32\", np.int32, 1)])\n",
      "/home/ai/anaconda3/envs/gpu/lib/python3.7/site-packages/tensorflow/python/framework/dtypes.py:525: FutureWarning: Passing (type, 1) or '1type' as a synonym of type is deprecated; in a future version of numpy, it will be understood as (type, (1,)) / '(1,)type'.\n",
      "  np_resource = np.dtype([(\"resource\", np.ubyte, 1)])\n"
     ]
    },
    {
     "name": "stdout",
     "output_type": "stream",
     "text": [
      "env: PYTHONHASHSEED=0\n"
     ]
    },
    {
     "name": "stderr",
     "output_type": "stream",
     "text": [
      "/home/ai/anaconda3/envs/gpu/lib/python3.7/site-packages/tensorboard/compat/tensorflow_stub/dtypes.py:541: FutureWarning: Passing (type, 1) or '1type' as a synonym of type is deprecated; in a future version of numpy, it will be understood as (type, (1,)) / '(1,)type'.\n",
      "  _np_qint8 = np.dtype([(\"qint8\", np.int8, 1)])\n",
      "/home/ai/anaconda3/envs/gpu/lib/python3.7/site-packages/tensorboard/compat/tensorflow_stub/dtypes.py:542: FutureWarning: Passing (type, 1) or '1type' as a synonym of type is deprecated; in a future version of numpy, it will be understood as (type, (1,)) / '(1,)type'.\n",
      "  _np_quint8 = np.dtype([(\"quint8\", np.uint8, 1)])\n",
      "/home/ai/anaconda3/envs/gpu/lib/python3.7/site-packages/tensorboard/compat/tensorflow_stub/dtypes.py:543: FutureWarning: Passing (type, 1) or '1type' as a synonym of type is deprecated; in a future version of numpy, it will be understood as (type, (1,)) / '(1,)type'.\n",
      "  _np_qint16 = np.dtype([(\"qint16\", np.int16, 1)])\n",
      "/home/ai/anaconda3/envs/gpu/lib/python3.7/site-packages/tensorboard/compat/tensorflow_stub/dtypes.py:544: FutureWarning: Passing (type, 1) or '1type' as a synonym of type is deprecated; in a future version of numpy, it will be understood as (type, (1,)) / '(1,)type'.\n",
      "  _np_quint16 = np.dtype([(\"quint16\", np.uint16, 1)])\n",
      "/home/ai/anaconda3/envs/gpu/lib/python3.7/site-packages/tensorboard/compat/tensorflow_stub/dtypes.py:545: FutureWarning: Passing (type, 1) or '1type' as a synonym of type is deprecated; in a future version of numpy, it will be understood as (type, (1,)) / '(1,)type'.\n",
      "  _np_qint32 = np.dtype([(\"qint32\", np.int32, 1)])\n",
      "/home/ai/anaconda3/envs/gpu/lib/python3.7/site-packages/tensorboard/compat/tensorflow_stub/dtypes.py:550: FutureWarning: Passing (type, 1) or '1type' as a synonym of type is deprecated; in a future version of numpy, it will be understood as (type, (1,)) / '(1,)type'.\n",
      "  np_resource = np.dtype([(\"resource\", np.ubyte, 1)])\n"
     ]
    }
   ],
   "source": [
    "from tensorflow.python.keras.layers import Input,Dense,Reshape,Lambda,RNN,Concatenate,StackedRNNCells\n",
    "from tensorflow.python.keras.models import Model,load_model\n",
    "from tensorflow.python.keras.utils import multi_gpu_model\n",
    "from tensorflow.python.keras.optimizers import Adam,SGD\n",
    "from tensorflow.python.keras.callbacks import LearningRateScheduler,Callback,ModelCheckpoint,TensorBoard\n",
    "\n",
    "import tensorflow as tf\n",
    "import datetime\n",
    "import os\n",
    "import numpy as np\n",
    "import pickle\n",
    "\n",
    "%env PYTHONHASHSEED=0\n",
    "from numpy.random import seed\n",
    "seed(1)\n",
    "from tensorflow import set_random_seed\n",
    "set_random_seed(2)\n",
    "os.environ[\"CUDA_VISIBLE_DEVICES\"]=\"1\""
   ]
  },
  {
   "cell_type": "code",
   "execution_count": 1,
   "metadata": {},
   "outputs": [
    {
     "ename": "ModuleNotFoundError",
     "evalue": "No module named 'sklearn'",
     "output_type": "error",
     "traceback": [
      "\u001b[0;31m---------------------------------------------------------------------------\u001b[0m",
      "\u001b[0;31mModuleNotFoundError\u001b[0m                       Traceback (most recent call last)",
      "\u001b[0;32m<ipython-input-1-ff3ad18d57d5>\u001b[0m in \u001b[0;36m<module>\u001b[0;34m\u001b[0m\n\u001b[0;32m----> 1\u001b[0;31m \u001b[0;32mfrom\u001b[0m \u001b[0msklearn\u001b[0m\u001b[0;34m.\u001b[0m\u001b[0mmodel_selection\u001b[0m \u001b[0;32mimport\u001b[0m \u001b[0mtrain_test_split\u001b[0m\u001b[0;34m\u001b[0m\u001b[0;34m\u001b[0m\u001b[0m\n\u001b[0m\u001b[1;32m      2\u001b[0m \u001b[0;32mimport\u001b[0m \u001b[0mtensorflow_datasets\u001b[0m \u001b[0;32mas\u001b[0m \u001b[0mtfds\u001b[0m\u001b[0;34m\u001b[0m\u001b[0;34m\u001b[0m\u001b[0m\n\u001b[1;32m      3\u001b[0m \u001b[0;31m#features\u001b[0m\u001b[0;34m\u001b[0m\u001b[0;34m\u001b[0m\u001b[0;34m\u001b[0m\u001b[0m\n\u001b[1;32m      4\u001b[0m \u001b[0mn2v_start\u001b[0m \u001b[0;34m=\u001b[0m \u001b[0mnp\u001b[0m\u001b[0;34m.\u001b[0m\u001b[0mload\u001b[0m\u001b[0;34m(\u001b[0m\u001b[0;34m\"start_emb.npy\"\u001b[0m\u001b[0;34m)\u001b[0m\u001b[0;34m\u001b[0m\u001b[0;34m\u001b[0m\u001b[0m\n\u001b[1;32m      5\u001b[0m \u001b[0mn2v_end\u001b[0m \u001b[0;34m=\u001b[0m \u001b[0mnp\u001b[0m\u001b[0;34m.\u001b[0m\u001b[0mload\u001b[0m\u001b[0;34m(\u001b[0m\u001b[0;34m\"end_emb.npy\"\u001b[0m\u001b[0;34m)\u001b[0m\u001b[0;34m\u001b[0m\u001b[0;34m\u001b[0m\u001b[0m\n",
      "\u001b[0;31mModuleNotFoundError\u001b[0m: No module named 'sklearn'"
     ]
    }
   ],
   "source": [
    "from sklearn.model_selection import train_test_split\n",
    "#import tensorflow_datasets as tfds\n",
    "#features\n",
    "n2v_start = np.load(\"start_emb.npy\")\n",
    "n2v_end = np.load(\"end_emb.npy\")\n",
    "lanes = np.load(\"lanes.npy\")\n",
    "oneway = np.load(\"oneway.npy\")\n",
    "roadtype = np.load(\"highway.npy\")\n",
    "maxspeed = np.load(\"maxspeed.npy\")\n",
    "nodetype = np.load(\"node_highway.npy\")\n",
    "#target\n",
    "meanspeed = np.load(\"meanspeed.npy\")\n",
    "\n",
    "#split\n",
    "#n2v_start_train, n2v_start_test, n2v_end_train, n2v_end_test, lanes_train, lanes_test, oneway_train, oneway_test, roadtype_train, roadtype_test, maxspeed_train, maxspeed_test, nodetype_train, nodetype_test, meanspeed_train, meanspeed_test = train_test_split(n2v_start, n2v_end, lanes,oneway,roadtype,maxspeed,nodetype,meanspeed)\n",
    "\n",
    "n2v_start_train, n2v_start_test = tfds.load(n2v_start, split=['train', 'test'])\n",
    "n2v_end_train, n2v_end_test = tfds.load(n2v_end, split=['train', 'test'])\n",
    "lanes_train, lanes_test = tfds.load(lanes, split=['train', 'test'])\n",
    "oneway_train, oneway_test = tfds.load(oneway, split=['train', 'test'])\n",
    "roadtype_train, roadtype_test = tfds.load(roadtype, split=['train', 'test'])\n",
    "maxspeed_train, maxspeed_test = tfds.load(maxspeed, split=['train', 'test'])\n",
    "nodetype_train, nodetype_test = tfds.load(nodetype, split=['train', 'test'])\n",
    "meanspeed_train, meanspeed_test = tfds.load(meanspeed, split=['train', 'test'])\n",
    "\n",
    "del n2v_start\n",
    "del n2v_end\n",
    "del lanes\n",
    "del oneway\n",
    "del roadtype\n",
    "del maxspeed\n",
    "del nodetype\n",
    "del meanspeed"
   ]
  },
  {
   "cell_type": "code",
   "execution_count": 3,
   "metadata": {},
   "outputs": [],
   "source": [
    "n2v_start_train=np.load('/home/fyp2/Ideaer/Madrid/split/n2v_start_train.npy')\n",
    "n2v_start_test=np.load('/home/fyp2/Ideaer/Madrid/split/n2v_start_test.npy')\n",
    "\n",
    "n2v_end_train=np.load('/home/fyp2/Ideaer/Madrid/split/n2v_end_train.npy')\n",
    "n2v_end_test=np.load('/home/fyp2/Ideaer/Madrid/split/n2v_end_test.npy')\n",
    "\n",
    "lanes_train=np.load('/home/fyp2/Ideaer/Madrid/split/lanes_train.npy')\n",
    "lanes_test=np.load('/home/fyp2/Ideaer/Madrid/split/lanes_test.npy')\n",
    "\n",
    "oneway_train=np.load('/home/fyp2/Ideaer/Madrid/split/oneway_train.npy')\n",
    "oneway_test=np.load('/home/fyp2/Ideaer/Madrid/split/oneway_test.npy')\n",
    "\n",
    "roadtype_train=np.load('/home/fyp2/Ideaer/Madrid/split/roadtype_train.npy')\n",
    "roadtype_test=np.load('/home/fyp2/Ideaer/Madrid/split/roadtype_test.npy')\n",
    "\n",
    "maxspeed_train=np.load('/home/fyp2/Ideaer/Madrid/split/maxspeed_train.npy')\n",
    "maxspeed_test=np.load('/home/fyp2/Ideaer/Madrid/split/maxspeed_test.npy')\n",
    "\n",
    "nodetype_train=np.load('/home/fyp2/Ideaer/Madrid/split/nodetype_train.npy')\n",
    "nodetype_test=np.load('/home/fyp2/Ideaer/Madrid/split/nodetype_test.npy')\n",
    "\n",
    "meanspeed_train=np.load('/home/fyp2/Ideaer/Madrid/split/meanspeed_train.npy')\n",
    "meanspeed_test=np.load('/home/fyp2/Ideaer/Madrid/split/meanspeed_test.npy')"
   ]
  },
  {
   "cell_type": "code",
   "execution_count": 4,
   "metadata": {},
   "outputs": [
    {
     "name": "stdout",
     "output_type": "stream",
     "text": [
      "WARNING:tensorflow:From /home/ai/anaconda3/envs/gpu/lib/python3.7/site-packages/tensorflow/python/ops/init_ops.py:1251: calling VarianceScaling.__init__ (from tensorflow.python.ops.init_ops) with dtype is deprecated and will be removed in a future version.\n",
      "Instructions for updating:\n",
      "Call initializer instance with the dtype argument instead of passing it to the constructor\n"
     ]
    }
   ],
   "source": [
    "embinplist = list()\n",
    "inplist = list()\n",
    "\n",
    "n2v_start_inp = Input((20,))\n",
    "n2v_start_reg = Dense(20,activation = \"relu\", use_bias = True)(n2v_start_inp)\n",
    "inplist.append(n2v_start_inp)\n",
    "embinplist.append(n2v_start_reg)\n",
    "\n",
    "n2v_end_inp = Input((20,))\n",
    "n2v_end_reg = Dense(20,activation = \"relu\", use_bias = True)(n2v_end_inp)\n",
    "inplist.append(n2v_end_inp)\n",
    "embinplist.append(n2v_end_reg)\n",
    "\n",
    "lanes_inp = Input((1,))\n",
    "lanes_reg= Dense(1,activation = \"relu\", use_bias = True)(lanes_inp)\n",
    "inplist.append(lanes_inp)\n",
    "embinplist.append(lanes_reg)\n",
    "\n",
    "oneway_inp = Input((2,))\n",
    "oneway_reg= Dense(2,activation = \"relu\", use_bias = True)(oneway_inp)\n",
    "inplist.append(oneway_inp)\n",
    "embinplist.append(oneway_reg)\n",
    "\n",
    "roadtype_inp = Input((13,))\n",
    "roadtype_reg= Dense(8,activation = \"relu\", use_bias = True)(roadtype_inp)\n",
    "inplist.append(roadtype_inp)\n",
    "embinplist.append(roadtype_reg)\n",
    "\n",
    "maxspeed_inp = Input((1,))\n",
    "maxspeed_reg= Dense(1,activation = \"relu\", use_bias = True)(maxspeed_inp)\n",
    "inplist.append(maxspeed_inp)\n",
    "embinplist.append(maxspeed_reg)\n",
    "\n",
    "nodetype_inp = Input((11,))\n",
    "nodetype_reg= Dense(8,activation = \"relu\", use_bias = True)(nodetype_inp)\n",
    "inplist.append(nodetype_inp)\n",
    "embinplist.append(nodetype_reg)\n",
    "\n",
    "combine = Concatenate()(embinplist)\n",
    "proj = Dense(32,activation = \"relu\",use_bias = True)(combine)\n",
    "proj = Dense(1,activation = \"linear\")(proj)\n",
    "\n",
    "emb = Model(inplist,proj)"
   ]
  },
  {
   "cell_type": "code",
   "execution_count": 5,
   "metadata": {
    "scrolled": true
   },
   "outputs": [
    {
     "name": "stdout",
     "output_type": "stream",
     "text": [
      "Model: \"model\"\n",
      "__________________________________________________________________________________________________\n",
      "Layer (type)                    Output Shape         Param #     Connected to                     \n",
      "==================================================================================================\n",
      "input_1 (InputLayer)            [(None, 20)]         0                                            \n",
      "__________________________________________________________________________________________________\n",
      "input_2 (InputLayer)            [(None, 20)]         0                                            \n",
      "__________________________________________________________________________________________________\n",
      "input_3 (InputLayer)            [(None, 1)]          0                                            \n",
      "__________________________________________________________________________________________________\n",
      "input_4 (InputLayer)            [(None, 2)]          0                                            \n",
      "__________________________________________________________________________________________________\n",
      "input_5 (InputLayer)            [(None, 13)]         0                                            \n",
      "__________________________________________________________________________________________________\n",
      "input_6 (InputLayer)            [(None, 1)]          0                                            \n",
      "__________________________________________________________________________________________________\n",
      "input_7 (InputLayer)            [(None, 11)]         0                                            \n",
      "__________________________________________________________________________________________________\n",
      "dense (Dense)                   (None, 20)           420         input_1[0][0]                    \n",
      "__________________________________________________________________________________________________\n",
      "dense_1 (Dense)                 (None, 20)           420         input_2[0][0]                    \n",
      "__________________________________________________________________________________________________\n",
      "dense_2 (Dense)                 (None, 1)            2           input_3[0][0]                    \n",
      "__________________________________________________________________________________________________\n",
      "dense_3 (Dense)                 (None, 2)            6           input_4[0][0]                    \n",
      "__________________________________________________________________________________________________\n",
      "dense_4 (Dense)                 (None, 8)            112         input_5[0][0]                    \n",
      "__________________________________________________________________________________________________\n",
      "dense_5 (Dense)                 (None, 1)            2           input_6[0][0]                    \n",
      "__________________________________________________________________________________________________\n",
      "dense_6 (Dense)                 (None, 8)            96          input_7[0][0]                    \n",
      "__________________________________________________________________________________________________\n",
      "concatenate (Concatenate)       (None, 60)           0           dense[0][0]                      \n",
      "                                                                 dense_1[0][0]                    \n",
      "                                                                 dense_2[0][0]                    \n",
      "                                                                 dense_3[0][0]                    \n",
      "                                                                 dense_4[0][0]                    \n",
      "                                                                 dense_5[0][0]                    \n",
      "                                                                 dense_6[0][0]                    \n",
      "__________________________________________________________________________________________________\n",
      "dense_7 (Dense)                 (None, 32)           1952        concatenate[0][0]                \n",
      "__________________________________________________________________________________________________\n",
      "dense_8 (Dense)                 (None, 1)            33          dense_7[0][0]                    \n",
      "==================================================================================================\n",
      "Total params: 3,043\n",
      "Trainable params: 3,043\n",
      "Non-trainable params: 0\n",
      "__________________________________________________________________________________________________\n"
     ]
    }
   ],
   "source": [
    "emb.summary()"
   ]
  },
  {
   "cell_type": "code",
   "execution_count": 6,
   "metadata": {},
   "outputs": [],
   "source": [
    "adam=Adam(lr=0.001,beta_1=0.9,beta_2=0.999,amsgrad=True)\n",
    "sgd = SGD(lr=0.01, decay=1e-6, momentum=0.9, nesterov=True)\n",
    "emb.compile(optimizer=adam, loss='mae',metrics=['mae'])"
   ]
  },
  {
   "cell_type": "code",
   "execution_count": null,
   "metadata": {},
   "outputs": [
    {
     "name": "stdout",
     "output_type": "stream",
     "text": [
      "Train on 86992 samples, validate on 28998 samples\n"
     ]
    }
   ],
   "source": [
    "emb.fit([n2v_start_train,n2v_end_train,lanes_train,oneway_train,roadtype_train,maxspeed_train,nodetype_train],\n",
    "        meanspeed_train,\n",
    "        epochs=100,batch_size=512,\n",
    "        validation_data=([n2v_start_test,n2v_end_test,lanes_test,oneway_test,roadtype_test,maxspeed_test,nodetype_test],\n",
    "        meanspeed_test)\n",
    "       )"
   ]
  },
  {
   "cell_type": "code",
   "execution_count": null,
   "metadata": {},
   "outputs": [],
   "source": []
  }
 ],
 "metadata": {
  "kernelspec": {
   "display_name": "Python [conda env:gpu]",
   "language": "python",
   "name": "conda-env-gpu-py"
  },
  "language_info": {
   "codemirror_mode": {
    "name": "ipython",
    "version": 3
   },
   "file_extension": ".py",
   "mimetype": "text/x-python",
   "name": "python",
   "nbconvert_exporter": "python",
   "pygments_lexer": "ipython3",
   "version": "3.7.5"
  }
 },
 "nbformat": 4,
 "nbformat_minor": 2
}
